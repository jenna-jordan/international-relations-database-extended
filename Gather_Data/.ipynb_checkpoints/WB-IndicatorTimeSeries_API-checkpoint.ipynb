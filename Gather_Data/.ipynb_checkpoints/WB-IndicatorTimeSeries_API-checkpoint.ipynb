{
 "cells": [
  {
   "cell_type": "markdown",
   "metadata": {},
   "source": [
    "# Get Time Series data for WDI via  API\n",
    "\n",
    "Documentation: \n",
    "\n",
    "- https://datahelpdesk.worldbank.org/knowledgebase/articles/898581-api-basic-call-structures\n",
    "\n",
    "Basic URL:\n",
    "\n",
    "http://api.worldbank.org/v2/sdmx/rest/data/WDI/../?startperiod=&endPeriod=\n",
    "\n"
   ]
  },
  {
   "cell_type": "code",
   "execution_count": 1,
   "metadata": {},
   "outputs": [],
   "source": [
    "import requests\n",
    "import time\n",
    "import pandas as pd"
   ]
  },
  {
   "cell_type": "markdown",
   "metadata": {},
   "source": [
    "## get inputs\n",
    "\n",
    "Use all WDI indicators, gathered from previous query to WB\n",
    "\n",
    "Use ISO alpha 3 codes from CShapes file, which maps CoW, UCDP/PRIO, and ISO codes for countries. Exclude any codes that are not present in the WB, determined from previous query to WB."
   ]
  },
  {
   "cell_type": "code",
   "execution_count": 2,
   "metadata": {},
   "outputs": [],
   "source": [
    "wdi_df = pd.read_csv('../Data/WorldBank/Raw_API/indicators-wdi-wtopics.csv')\n",
    "i_list = list(wdi_df['id'].unique())\n",
    "\n",
    "countries_df = pd.read_csv(\"../Data/countrycode/country_conversion_table.csv\", usecols=['wb']).drop_duplicates().dropna()\n",
    "c_list = list(countries_df['wb_id'])\n",
    "\n",
    "wb_countries = pd.read_csv('../Data/WorldBank/Raw_API/countries_list.csv')\n",
    "wb_c_list = list(wb_countries['id'].unique())"
   ]
  },
  {
   "cell_type": "markdown",
   "metadata": {},
   "source": [
    "not every row in the WB country list is a country, some are aggregates. These are the observations that do not appear in the countrycode base table:"
   ]
  },
  {
   "cell_type": "code",
   "execution_count": 3,
   "metadata": {},
   "outputs": [
    {
     "data": {
      "text/html": [
       "<div>\n",
       "<style scoped>\n",
       "    .dataframe tbody tr th:only-of-type {\n",
       "        vertical-align: middle;\n",
       "    }\n",
       "\n",
       "    .dataframe tbody tr th {\n",
       "        vertical-align: top;\n",
       "    }\n",
       "\n",
       "    .dataframe thead th {\n",
       "        text-align: right;\n",
       "    }\n",
       "</style>\n",
       "<table border=\"1\" class=\"dataframe\">\n",
       "  <thead>\n",
       "    <tr style=\"text-align: right;\">\n",
       "      <th></th>\n",
       "      <th>id</th>\n",
       "      <th>iso2code</th>\n",
       "      <th>name</th>\n",
       "      <th>capitalcity</th>\n",
       "      <th>latitude</th>\n",
       "      <th>longitude</th>\n",
       "      <th>region_name</th>\n",
       "      <th>adminregion_name</th>\n",
       "      <th>incomelevel_value</th>\n",
       "      <th>lendingtype_value</th>\n",
       "    </tr>\n",
       "  </thead>\n",
       "  <tbody>\n",
       "    <tr>\n",
       "      <th>0</th>\n",
       "      <td>ABW</td>\n",
       "      <td>AW</td>\n",
       "      <td>Aruba</td>\n",
       "      <td>Oranjestad</td>\n",
       "      <td>12.516700</td>\n",
       "      <td>-70.016700</td>\n",
       "      <td>Latin America &amp; Caribbean</td>\n",
       "      <td>NaN</td>\n",
       "      <td>High income</td>\n",
       "      <td>Not classified</td>\n",
       "    </tr>\n",
       "    <tr>\n",
       "      <th>2</th>\n",
       "      <td>AFR</td>\n",
       "      <td>A9</td>\n",
       "      <td>Africa</td>\n",
       "      <td>NaN</td>\n",
       "      <td>NaN</td>\n",
       "      <td>NaN</td>\n",
       "      <td>Aggregates</td>\n",
       "      <td>NaN</td>\n",
       "      <td>Aggregates</td>\n",
       "      <td>Aggregates</td>\n",
       "    </tr>\n",
       "    <tr>\n",
       "      <th>6</th>\n",
       "      <td>ANR</td>\n",
       "      <td>L5</td>\n",
       "      <td>Andean Region</td>\n",
       "      <td>NaN</td>\n",
       "      <td>NaN</td>\n",
       "      <td>NaN</td>\n",
       "      <td>Aggregates</td>\n",
       "      <td>NaN</td>\n",
       "      <td>Aggregates</td>\n",
       "      <td>Aggregates</td>\n",
       "    </tr>\n",
       "    <tr>\n",
       "      <th>7</th>\n",
       "      <td>ARB</td>\n",
       "      <td>1A</td>\n",
       "      <td>Arab World</td>\n",
       "      <td>NaN</td>\n",
       "      <td>NaN</td>\n",
       "      <td>NaN</td>\n",
       "      <td>Aggregates</td>\n",
       "      <td>NaN</td>\n",
       "      <td>Aggregates</td>\n",
       "      <td>Aggregates</td>\n",
       "    </tr>\n",
       "    <tr>\n",
       "      <th>11</th>\n",
       "      <td>ASM</td>\n",
       "      <td>AS</td>\n",
       "      <td>American Samoa</td>\n",
       "      <td>Pago Pago</td>\n",
       "      <td>-14.284600</td>\n",
       "      <td>-170.691000</td>\n",
       "      <td>East Asia &amp; Pacific</td>\n",
       "      <td>East Asia &amp; Pacific (excluding high income)</td>\n",
       "      <td>Upper middle income</td>\n",
       "      <td>Not classified</td>\n",
       "    </tr>\n",
       "    <tr>\n",
       "      <th>...</th>\n",
       "      <td>...</td>\n",
       "      <td>...</td>\n",
       "      <td>...</td>\n",
       "      <td>...</td>\n",
       "      <td>...</td>\n",
       "      <td>...</td>\n",
       "      <td>...</td>\n",
       "      <td>...</td>\n",
       "      <td>...</td>\n",
       "      <td>...</td>\n",
       "    </tr>\n",
       "    <tr>\n",
       "      <th>286</th>\n",
       "      <td>UMC</td>\n",
       "      <td>XT</td>\n",
       "      <td>Upper middle income</td>\n",
       "      <td>NaN</td>\n",
       "      <td>NaN</td>\n",
       "      <td>NaN</td>\n",
       "      <td>Aggregates</td>\n",
       "      <td>NaN</td>\n",
       "      <td>Aggregates</td>\n",
       "      <td>Aggregates</td>\n",
       "    </tr>\n",
       "    <tr>\n",
       "      <th>292</th>\n",
       "      <td>VGB</td>\n",
       "      <td>VG</td>\n",
       "      <td>British Virgin Islands</td>\n",
       "      <td>Road Town</td>\n",
       "      <td>18.431389</td>\n",
       "      <td>-64.623056</td>\n",
       "      <td>Latin America &amp; Caribbean</td>\n",
       "      <td>NaN</td>\n",
       "      <td>High income</td>\n",
       "      <td>Not classified</td>\n",
       "    </tr>\n",
       "    <tr>\n",
       "      <th>293</th>\n",
       "      <td>VIR</td>\n",
       "      <td>VI</td>\n",
       "      <td>Virgin Islands (U.S.)</td>\n",
       "      <td>Charlotte Amalie</td>\n",
       "      <td>18.335800</td>\n",
       "      <td>-64.896300</td>\n",
       "      <td>Latin America &amp; Caribbean</td>\n",
       "      <td>NaN</td>\n",
       "      <td>High income</td>\n",
       "      <td>Not classified</td>\n",
       "    </tr>\n",
       "    <tr>\n",
       "      <th>296</th>\n",
       "      <td>WLD</td>\n",
       "      <td>1W</td>\n",
       "      <td>World</td>\n",
       "      <td>NaN</td>\n",
       "      <td>NaN</td>\n",
       "      <td>NaN</td>\n",
       "      <td>Aggregates</td>\n",
       "      <td>NaN</td>\n",
       "      <td>Aggregates</td>\n",
       "      <td>Aggregates</td>\n",
       "    </tr>\n",
       "    <tr>\n",
       "      <th>299</th>\n",
       "      <td>XZN</td>\n",
       "      <td>A5</td>\n",
       "      <td>Sub-Saharan Africa excluding South Africa and ...</td>\n",
       "      <td>NaN</td>\n",
       "      <td>NaN</td>\n",
       "      <td>NaN</td>\n",
       "      <td>Aggregates</td>\n",
       "      <td>NaN</td>\n",
       "      <td>Aggregates</td>\n",
       "      <td>Aggregates</td>\n",
       "    </tr>\n",
       "  </tbody>\n",
       "</table>\n",
       "<p>109 rows × 10 columns</p>\n",
       "</div>"
      ],
      "text/plain": [
       "      id iso2code                                               name  \\\n",
       "0    ABW       AW                                              Aruba   \n",
       "2    AFR       A9                                             Africa   \n",
       "6    ANR       L5                                      Andean Region   \n",
       "7    ARB       1A                                         Arab World   \n",
       "11   ASM       AS                                     American Samoa   \n",
       "..   ...      ...                                                ...   \n",
       "286  UMC       XT                                Upper middle income   \n",
       "292  VGB       VG                             British Virgin Islands   \n",
       "293  VIR       VI                              Virgin Islands (U.S.)   \n",
       "296  WLD       1W                                              World   \n",
       "299  XZN       A5  Sub-Saharan Africa excluding South Africa and ...   \n",
       "\n",
       "          capitalcity   latitude   longitude                 region_name  \\\n",
       "0          Oranjestad  12.516700  -70.016700  Latin America & Caribbean    \n",
       "2                 NaN        NaN         NaN                  Aggregates   \n",
       "6                 NaN        NaN         NaN                  Aggregates   \n",
       "7                 NaN        NaN         NaN                  Aggregates   \n",
       "11          Pago Pago -14.284600 -170.691000         East Asia & Pacific   \n",
       "..                ...        ...         ...                         ...   \n",
       "286               NaN        NaN         NaN                  Aggregates   \n",
       "292         Road Town  18.431389  -64.623056  Latin America & Caribbean    \n",
       "293  Charlotte Amalie  18.335800  -64.896300  Latin America & Caribbean    \n",
       "296               NaN        NaN         NaN                  Aggregates   \n",
       "299               NaN        NaN         NaN                  Aggregates   \n",
       "\n",
       "                                adminregion_name    incomelevel_value  \\\n",
       "0                                            NaN          High income   \n",
       "2                                            NaN           Aggregates   \n",
       "6                                            NaN           Aggregates   \n",
       "7                                            NaN           Aggregates   \n",
       "11   East Asia & Pacific (excluding high income)  Upper middle income   \n",
       "..                                           ...                  ...   \n",
       "286                                          NaN           Aggregates   \n",
       "292                                          NaN          High income   \n",
       "293                                          NaN          High income   \n",
       "296                                          NaN           Aggregates   \n",
       "299                                          NaN           Aggregates   \n",
       "\n",
       "    lendingtype_value  \n",
       "0      Not classified  \n",
       "2          Aggregates  \n",
       "6          Aggregates  \n",
       "7          Aggregates  \n",
       "11     Not classified  \n",
       "..                ...  \n",
       "286        Aggregates  \n",
       "292    Not classified  \n",
       "293    Not classified  \n",
       "296        Aggregates  \n",
       "299        Aggregates  \n",
       "\n",
       "[109 rows x 10 columns]"
      ]
     },
     "execution_count": 3,
     "metadata": {},
     "output_type": "execute_result"
    }
   ],
   "source": [
    "wb_not_in_cc = list(set(wb_c_list) - set(c_list))\n",
    "wb_countries[wb_countries['id'].isin(wb_not_in_cc)]"
   ]
  },
  {
   "cell_type": "markdown",
   "metadata": {},
   "source": [
    "but, all WB codes that are in countrycodes are also in WB, so we are good to go using that list. 195 countries."
   ]
  },
  {
   "cell_type": "code",
   "execution_count": 4,
   "metadata": {},
   "outputs": [
    {
     "data": {
      "text/plain": [
       "(set(), 195)"
      ]
     },
     "execution_count": 4,
     "metadata": {},
     "output_type": "execute_result"
    }
   ],
   "source": [
    "set(c_list) - set(wb_c_list), len(c_list)"
   ]
  },
  {
   "cell_type": "code",
   "execution_count": 5,
   "metadata": {},
   "outputs": [
    {
     "data": {
      "text/plain": [
       "1387"
      ]
     },
     "execution_count": 5,
     "metadata": {},
     "output_type": "execute_result"
    }
   ],
   "source": [
    "len(i_list)"
   ]
  },
  {
   "cell_type": "markdown",
   "metadata": {},
   "source": [
    "### Top 25 indicators\n",
    "\n",
    "The list of the top 25 most popular WDI indicators is from: https://datatopics.worldbank.org/world-development-indicators/stories/world-development-indicators-the-story.html"
   ]
  },
  {
   "cell_type": "code",
   "execution_count": 11,
   "metadata": {},
   "outputs": [],
   "source": [
    "top25_indicators = ['NY.GDP.MKTP.CD', 'SP.POP.TOTL', 'NY.GDP.MKTP.KD.ZG', 'NY.GDP.PCAP.CD', 'SI.POV.GINI', \n",
    "                    'SP.POP.TOTL.FE.IN', 'SP.DYN.TFRT.IN', 'NY.GDP.PCAP.PP.CD', 'SP.DYN.LE00.IN', 'MS.MIL.XPND.GD.ZS', \n",
    "                    'FP.CPI.TOTL.ZG', 'SP.URB.TOTL.IN.ZS', 'EN.POP.DNST', 'EN.ATM.CO2E.PC', 'SH.XPD.CHEX.GD.ZS', \n",
    "                    'SP.POP.GROW', 'ST.INT.ARVL', 'NY.GDP.PCAP.KD.ZG', 'BX.KLT.DINV.CD.WD', 'SE.XPD.TOTL.GB.ZS', \n",
    "                    'SE.ADT.LITR.ZS', 'EG.ELC.ACCS.ZS', 'SL.UEM.TOTL.ZS', 'NE.EXP.GNFS.ZS', 'SP.DYN.IMRT.IN']"
   ]
  },
  {
   "cell_type": "markdown",
   "metadata": {},
   "source": [
    "## function to page through results\n",
    "\n",
    "Needs to account for errors - if the call was unsuccessful, if the WB returns an error code, etc.\n",
    "If successful, returns the data. If unsuccessful, returns the call (to investigate why)."
   ]
  },
  {
   "cell_type": "code",
   "execution_count": 6,
   "metadata": {},
   "outputs": [],
   "source": [
    "def page_through(baseurl):\n",
    "    # keep track in case of errors\n",
    "    tries = 0\n",
    "    # initiate page count and dummy number of pages\n",
    "    pagecount = 1\n",
    "    pages = 1\n",
    "    # to store results from request\n",
    "    results = []\n",
    "    # set initial url for first page\n",
    "    url = baseurl\n",
    "    while pagecount <= pages:\n",
    "        # in case something is fundamentally wrong with query\n",
    "        if tries > 5:\n",
    "            return data_call\n",
    "            break\n",
    "        else:\n",
    "            # attempt data request\n",
    "            data_call = requests.get(url)\n",
    "            # compensate for error in call\n",
    "            if data_call.status_code != 200:\n",
    "                tries += 1\n",
    "                time.sleep(5)\n",
    "                continue\n",
    "            elif len(data_call.json()) < 2:\n",
    "                tries += 1\n",
    "                time.sleep(5)\n",
    "                continue\n",
    "            else:\n",
    "                # reset error tracking vars\n",
    "                tries = 0\n",
    "                # get results if valid call\n",
    "                header = data_call.json()[0]\n",
    "                response = data_call.json()[1]\n",
    "                # track pages and number of observations so knows when to stop\n",
    "                pages = header['pages']\n",
    "                total_obs = header['total']\n",
    "                # add data to results (10,000 per page)\n",
    "                results.extend(response)\n",
    "\n",
    "                # increment page number to get next page\n",
    "                pagecount += 1\n",
    "                url = baseurl + '&page=' + str(pagecount)\n",
    "                time.sleep(5)\n",
    "\n",
    "    if len(results) == total_obs:\n",
    "        return results\n",
    "    else:\n",
    "        print(\"Something went wrong\")"
   ]
  },
  {
   "cell_type": "markdown",
   "metadata": {},
   "source": [
    "## function to create url for queries\n",
    "\n",
    "Each URL will include all countries, and 20 indicators."
   ]
  },
  {
   "cell_type": "code",
   "execution_count": 7,
   "metadata": {},
   "outputs": [],
   "source": [
    "def cycle_through(countries, indicators):\n",
    "    \n",
    "    country_list = \";\".join(countries)\n",
    "    current_indicator = 0\n",
    "    total_indicators = len(indicators)\n",
    "    \n",
    "    url_list = []\n",
    "    \n",
    "    while current_indicator <= total_indicators:\n",
    "        \n",
    "        if current_indicator < total_indicators-20:\n",
    "            indicator_list = \";\".join(indicators[current_indicator:current_indicator+20])\n",
    "        else:\n",
    "            indicator_list = \";\".join(indicators[current_indicator:])\n",
    "        \n",
    "        url = \"http://api.worldbank.org/v2/country/\" + country_list + \"/indicator/\" + indicator_list + \"?source=2\" + \"&format=json&per_page=10000\"\n",
    "        url_list.append(url)\n",
    "        current_indicator += 20\n",
    "    \n",
    "    return url_list"
   ]
  },
  {
   "cell_type": "markdown",
   "metadata": {},
   "source": [
    "## create urls"
   ]
  },
  {
   "cell_type": "code",
   "execution_count": 8,
   "metadata": {},
   "outputs": [
    {
     "data": {
      "text/plain": [
       "70"
      ]
     },
     "execution_count": 8,
     "metadata": {},
     "output_type": "execute_result"
    }
   ],
   "source": [
    "url_list_allindicators = cycle_through(countries=c_list, indicators=i_list)\n",
    "len(url_list)"
   ]
  },
  {
   "cell_type": "code",
   "execution_count": 12,
   "metadata": {},
   "outputs": [
    {
     "data": {
      "text/plain": [
       "2"
      ]
     },
     "execution_count": 12,
     "metadata": {},
     "output_type": "execute_result"
    }
   ],
   "source": [
    "url_list_top25 = cycle_through(countries=c_list, indicators=top25_indicators)\n",
    "len(url_list_top25)"
   ]
  },
  {
   "cell_type": "markdown",
   "metadata": {},
   "source": [
    "## request data and transform into a dataframe\n",
    "\n",
    "code below uses the 'url_list_top25' list. To get the full indicator list, use the 'url_list_allindicators' variable in the for loop."
   ]
  },
  {
   "cell_type": "code",
   "execution_count": 13,
   "metadata": {},
   "outputs": [],
   "source": [
    "raw_data = []\n",
    "skipped_urls = []\n",
    "for url in url_list_top25:\n",
    "    chunk = page_through(url)\n",
    "    if type(chunk) != list:\n",
    "        err_result = {url: chunk}\n",
    "        skipped_urls.append(err_result)\n",
    "    else:\n",
    "        raw_data.extend(chunk)"
   ]
  },
  {
   "cell_type": "code",
   "execution_count": 14,
   "metadata": {},
   "outputs": [
    {
     "data": {
      "text/plain": [
       "291000"
      ]
     },
     "execution_count": 14,
     "metadata": {},
     "output_type": "execute_result"
    }
   ],
   "source": [
    "len(raw_data)"
   ]
  },
  {
   "cell_type": "code",
   "execution_count": 15,
   "metadata": {},
   "outputs": [
    {
     "data": {
      "text/plain": [
       "0"
      ]
     },
     "execution_count": 15,
     "metadata": {},
     "output_type": "execute_result"
    }
   ],
   "source": [
    "len(skipped_urls)"
   ]
  },
  {
   "cell_type": "code",
   "execution_count": 16,
   "metadata": {},
   "outputs": [
    {
     "data": {
      "text/plain": [
       "{'indicator': {'id': 'NY.GDP.MKTP.CD', 'value': 'GDP (current US$)'},\n",
       " 'country': {'id': 'AF', 'value': 'Afghanistan'},\n",
       " 'countryiso3code': 'AFG',\n",
       " 'date': '2019',\n",
       " 'value': None,\n",
       " 'scale': '',\n",
       " 'unit': '',\n",
       " 'obs_status': '',\n",
       " 'decimal': 0}"
      ]
     },
     "execution_count": 16,
     "metadata": {},
     "output_type": "execute_result"
    }
   ],
   "source": [
    "raw_data[0]"
   ]
  },
  {
   "cell_type": "code",
   "execution_count": 17,
   "metadata": {},
   "outputs": [],
   "source": [
    "time_series_results = []\n",
    "for r in raw_data:\n",
    "    row = {'country': r['countryiso3code'], 'indicator': r['indicator']['id'], 'year': r['date'], 'value': r['value'], \n",
    "                       'unit': r['unit'], 'obs_status': r['obs_status'], 'decimal': r['decimal'], 'scale': ''}\n",
    "    if 'scale' in r:\n",
    "        row['scale'] = r['scale']\n",
    "    \n",
    "    time_series_results.append(row)"
   ]
  },
  {
   "cell_type": "code",
   "execution_count": 18,
   "metadata": {},
   "outputs": [
    {
     "data": {
      "text/html": [
       "<div>\n",
       "<style scoped>\n",
       "    .dataframe tbody tr th:only-of-type {\n",
       "        vertical-align: middle;\n",
       "    }\n",
       "\n",
       "    .dataframe tbody tr th {\n",
       "        vertical-align: top;\n",
       "    }\n",
       "\n",
       "    .dataframe thead th {\n",
       "        text-align: right;\n",
       "    }\n",
       "</style>\n",
       "<table border=\"1\" class=\"dataframe\">\n",
       "  <thead>\n",
       "    <tr style=\"text-align: right;\">\n",
       "      <th></th>\n",
       "      <th>country</th>\n",
       "      <th>indicator</th>\n",
       "      <th>year</th>\n",
       "      <th>value</th>\n",
       "      <th>unit</th>\n",
       "      <th>obs_status</th>\n",
       "      <th>decimal</th>\n",
       "      <th>scale</th>\n",
       "    </tr>\n",
       "  </thead>\n",
       "  <tbody>\n",
       "    <tr>\n",
       "      <th>0</th>\n",
       "      <td>AFG</td>\n",
       "      <td>NY.GDP.MKTP.CD</td>\n",
       "      <td>2019</td>\n",
       "      <td>NaN</td>\n",
       "      <td></td>\n",
       "      <td></td>\n",
       "      <td>0</td>\n",
       "      <td></td>\n",
       "    </tr>\n",
       "    <tr>\n",
       "      <th>1</th>\n",
       "      <td>AFG</td>\n",
       "      <td>NY.GDP.MKTP.CD</td>\n",
       "      <td>2018</td>\n",
       "      <td>1.936297e+10</td>\n",
       "      <td></td>\n",
       "      <td></td>\n",
       "      <td>0</td>\n",
       "      <td></td>\n",
       "    </tr>\n",
       "    <tr>\n",
       "      <th>2</th>\n",
       "      <td>AFG</td>\n",
       "      <td>NY.GDP.MKTP.CD</td>\n",
       "      <td>2017</td>\n",
       "      <td>2.019176e+10</td>\n",
       "      <td></td>\n",
       "      <td></td>\n",
       "      <td>0</td>\n",
       "      <td></td>\n",
       "    </tr>\n",
       "    <tr>\n",
       "      <th>3</th>\n",
       "      <td>AFG</td>\n",
       "      <td>NY.GDP.MKTP.CD</td>\n",
       "      <td>2016</td>\n",
       "      <td>1.936264e+10</td>\n",
       "      <td></td>\n",
       "      <td></td>\n",
       "      <td>0</td>\n",
       "      <td></td>\n",
       "    </tr>\n",
       "    <tr>\n",
       "      <th>4</th>\n",
       "      <td>AFG</td>\n",
       "      <td>NY.GDP.MKTP.CD</td>\n",
       "      <td>2015</td>\n",
       "      <td>1.990711e+10</td>\n",
       "      <td></td>\n",
       "      <td></td>\n",
       "      <td>0</td>\n",
       "      <td></td>\n",
       "    </tr>\n",
       "    <tr>\n",
       "      <th>...</th>\n",
       "      <td>...</td>\n",
       "      <td>...</td>\n",
       "      <td>...</td>\n",
       "      <td>...</td>\n",
       "      <td>...</td>\n",
       "      <td>...</td>\n",
       "      <td>...</td>\n",
       "      <td>...</td>\n",
       "    </tr>\n",
       "    <tr>\n",
       "      <th>290995</th>\n",
       "      <td>ZWE</td>\n",
       "      <td>SP.DYN.IMRT.IN</td>\n",
       "      <td>1964</td>\n",
       "      <td>8.320000e+01</td>\n",
       "      <td></td>\n",
       "      <td></td>\n",
       "      <td>0</td>\n",
       "      <td></td>\n",
       "    </tr>\n",
       "    <tr>\n",
       "      <th>290996</th>\n",
       "      <td>ZWE</td>\n",
       "      <td>SP.DYN.IMRT.IN</td>\n",
       "      <td>1963</td>\n",
       "      <td>8.570000e+01</td>\n",
       "      <td></td>\n",
       "      <td></td>\n",
       "      <td>0</td>\n",
       "      <td></td>\n",
       "    </tr>\n",
       "    <tr>\n",
       "      <th>290997</th>\n",
       "      <td>ZWE</td>\n",
       "      <td>SP.DYN.IMRT.IN</td>\n",
       "      <td>1962</td>\n",
       "      <td>8.810000e+01</td>\n",
       "      <td></td>\n",
       "      <td></td>\n",
       "      <td>0</td>\n",
       "      <td></td>\n",
       "    </tr>\n",
       "    <tr>\n",
       "      <th>290998</th>\n",
       "      <td>ZWE</td>\n",
       "      <td>SP.DYN.IMRT.IN</td>\n",
       "      <td>1961</td>\n",
       "      <td>9.050000e+01</td>\n",
       "      <td></td>\n",
       "      <td></td>\n",
       "      <td>0</td>\n",
       "      <td></td>\n",
       "    </tr>\n",
       "    <tr>\n",
       "      <th>290999</th>\n",
       "      <td>ZWE</td>\n",
       "      <td>SP.DYN.IMRT.IN</td>\n",
       "      <td>1960</td>\n",
       "      <td>9.280000e+01</td>\n",
       "      <td></td>\n",
       "      <td></td>\n",
       "      <td>0</td>\n",
       "      <td></td>\n",
       "    </tr>\n",
       "  </tbody>\n",
       "</table>\n",
       "<p>291000 rows × 8 columns</p>\n",
       "</div>"
      ],
      "text/plain": [
       "       country       indicator  year         value unit obs_status  decimal  \\\n",
       "0          AFG  NY.GDP.MKTP.CD  2019           NaN                        0   \n",
       "1          AFG  NY.GDP.MKTP.CD  2018  1.936297e+10                        0   \n",
       "2          AFG  NY.GDP.MKTP.CD  2017  2.019176e+10                        0   \n",
       "3          AFG  NY.GDP.MKTP.CD  2016  1.936264e+10                        0   \n",
       "4          AFG  NY.GDP.MKTP.CD  2015  1.990711e+10                        0   \n",
       "...        ...             ...   ...           ...  ...        ...      ...   \n",
       "290995     ZWE  SP.DYN.IMRT.IN  1964  8.320000e+01                        0   \n",
       "290996     ZWE  SP.DYN.IMRT.IN  1963  8.570000e+01                        0   \n",
       "290997     ZWE  SP.DYN.IMRT.IN  1962  8.810000e+01                        0   \n",
       "290998     ZWE  SP.DYN.IMRT.IN  1961  9.050000e+01                        0   \n",
       "290999     ZWE  SP.DYN.IMRT.IN  1960  9.280000e+01                        0   \n",
       "\n",
       "       scale  \n",
       "0             \n",
       "1             \n",
       "2             \n",
       "3             \n",
       "4             \n",
       "...      ...  \n",
       "290995        \n",
       "290996        \n",
       "290997        \n",
       "290998        \n",
       "290999        \n",
       "\n",
       "[291000 rows x 8 columns]"
      ]
     },
     "execution_count": 18,
     "metadata": {},
     "output_type": "execute_result"
    }
   ],
   "source": [
    "time_series_df = pd.DataFrame(time_series_results)\n",
    "time_series_df"
   ]
  },
  {
   "cell_type": "markdown",
   "metadata": {},
   "source": [
    "## Inspect and clean up the dataframe"
   ]
  },
  {
   "cell_type": "code",
   "execution_count": 19,
   "metadata": {},
   "outputs": [
    {
     "data": {
      "text/plain": [
       "Index(['country', 'indicator', 'year', 'value', 'unit', 'obs_status',\n",
       "       'decimal', 'scale'],\n",
       "      dtype='object')"
      ]
     },
     "execution_count": 19,
     "metadata": {},
     "output_type": "execute_result"
    }
   ],
   "source": [
    "time_series_df.columns"
   ]
  },
  {
   "cell_type": "code",
   "execution_count": 20,
   "metadata": {},
   "outputs": [
    {
     "data": {
      "text/plain": [
       "array([''], dtype=object)"
      ]
     },
     "execution_count": 20,
     "metadata": {},
     "output_type": "execute_result"
    }
   ],
   "source": [
    "time_series_df['scale'].unique()"
   ]
  },
  {
   "cell_type": "code",
   "execution_count": 21,
   "metadata": {},
   "outputs": [
    {
     "data": {
      "text/plain": [
       "array([''], dtype=object)"
      ]
     },
     "execution_count": 21,
     "metadata": {},
     "output_type": "execute_result"
    }
   ],
   "source": [
    "time_series_df['unit'].unique()"
   ]
  },
  {
   "cell_type": "code",
   "execution_count": 22,
   "metadata": {},
   "outputs": [
    {
     "data": {
      "text/plain": [
       "array([''], dtype=object)"
      ]
     },
     "execution_count": 22,
     "metadata": {},
     "output_type": "execute_result"
    }
   ],
   "source": [
    "time_series_df['obs_status'].unique()"
   ]
  },
  {
   "cell_type": "code",
   "execution_count": 23,
   "metadata": {},
   "outputs": [
    {
     "data": {
      "text/plain": [
       "array([0, 1, 2])"
      ]
     },
     "execution_count": 23,
     "metadata": {},
     "output_type": "execute_result"
    }
   ],
   "source": [
    "time_series_df['decimal'].unique()"
   ]
  },
  {
   "cell_type": "code",
   "execution_count": 24,
   "metadata": {},
   "outputs": [
    {
     "data": {
      "text/plain": [
       "array(['2019', '2018', '2017', '2016', '2015', '2014', '2013', '2012',\n",
       "       '2011', '2010', '2009', '2008', '2007', '2006', '2005', '2004',\n",
       "       '2003', '2002', '2001', '2000', '1999', '1998', '1997', '1996',\n",
       "       '1995', '1994', '1993', '1992', '1991', '1990', '1989', '1988',\n",
       "       '1987', '1986', '1985', '1984', '1983', '1982', '1981', '1980',\n",
       "       '1979', '1978', '1977', '1976', '1975', '1974', '1973', '1972',\n",
       "       '1971', '1970', '1969', '1968', '1967', '1966', '1965', '1964',\n",
       "       '1963', '1962', '1961', '1960'], dtype=object)"
      ]
     },
     "execution_count": 24,
     "metadata": {},
     "output_type": "execute_result"
    }
   ],
   "source": [
    "time_series_df['year'].unique()"
   ]
  },
  {
   "cell_type": "code",
   "execution_count": 25,
   "metadata": {},
   "outputs": [
    {
     "data": {
      "text/plain": [
       "60"
      ]
     },
     "execution_count": 25,
     "metadata": {},
     "output_type": "execute_result"
    }
   ],
   "source": [
    "len(time_series_df['year'].unique())"
   ]
  },
  {
   "cell_type": "code",
   "execution_count": 26,
   "metadata": {},
   "outputs": [
    {
     "data": {
      "text/plain": [
       "array(['AFG', 'AGO', 'ALB', 'AND', 'ARE', 'ARG', 'ARM', 'ATG', 'AUS',\n",
       "       'AUT', 'AZE', 'BDI', 'BEL', 'BEN', 'BFA', 'BGD', 'BGR', 'BHR',\n",
       "       'BHS', 'BIH', 'BLR', 'BLZ', 'BOL', 'BRA', 'BRB', 'BRN', 'BTN',\n",
       "       'BWA', 'CAF', 'CAN', 'CHE', 'CHL', 'CHN', 'CIV', 'CMR', 'COD',\n",
       "       'COG', 'COL', 'COM', 'CPV', 'CRI', 'CUB', 'CYP', 'CZE', 'DEU',\n",
       "       'DJI', 'DMA', 'DNK', 'DOM', 'DZA', 'ECU', 'EGY', 'ERI', 'ESP',\n",
       "       'EST', 'ETH', 'FIN', 'FJI', 'FRA', 'FSM', 'GAB', 'GBR', 'GEO',\n",
       "       'GHA', 'GIN', 'GMB', 'GNB', 'GNQ', 'GRC', 'GRD', 'GTM', 'GUY',\n",
       "       'HND', 'HRV', 'HTI', 'HUN', 'IDN', 'IND', 'IRL', 'IRN', 'IRQ',\n",
       "       'ISL', 'ISR', 'ITA', 'JAM', 'JOR', 'JPN', 'KAZ', 'KEN', 'KGZ',\n",
       "       'KHM', 'KIR', 'KNA', 'KOR', 'KWT', 'LAO', 'LBN', 'LBR', 'LBY',\n",
       "       'LCA', 'LIE', 'LKA', 'LSO', 'LTU', 'LUX', 'LVA', 'MAR', 'MCO',\n",
       "       'MDA', 'MDG', 'MDV', 'MEX', 'MHL', 'MKD', 'MLI', 'MLT', 'MMR',\n",
       "       'MNE', 'MNG', 'MOZ', 'MRT', 'MUS', 'MWI', 'MYS', 'NAM', 'NER',\n",
       "       'NGA', 'NIC', 'NLD', 'NOR', 'NPL', 'NRU', 'NZL', 'OMN', 'PAK',\n",
       "       'PAN', 'PER', 'PHL', 'PLW', 'PNG', 'POL', 'PRK', 'PRT', 'PRY',\n",
       "       'QAT', 'ROU', 'RUS', 'RWA', 'SAU', 'SDN', 'SEN', 'SGP', 'SLB',\n",
       "       'SLE', 'SLV', 'SMR', 'SOM', 'SRB', 'SSD', 'STP', 'SUR', 'SVK',\n",
       "       'SVN', 'SWE', 'SWZ', 'SYC', 'SYR', 'TCD', 'TGO', 'THA', 'TJK',\n",
       "       'TKM', 'TLS', 'TON', 'TTO', 'TUN', 'TUR', 'TUV', 'TZA', 'UGA',\n",
       "       'UKR', 'URY', 'USA', 'UZB', 'VCT', 'VEN', 'VNM', 'VUT', 'WSM',\n",
       "       'XKX', 'YEM', 'ZAF', 'ZMB', 'ZWE'], dtype=object)"
      ]
     },
     "execution_count": 26,
     "metadata": {},
     "output_type": "execute_result"
    }
   ],
   "source": [
    "time_series_df['country'].unique()"
   ]
  },
  {
   "cell_type": "code",
   "execution_count": 27,
   "metadata": {},
   "outputs": [
    {
     "data": {
      "text/plain": [
       "194"
      ]
     },
     "execution_count": 27,
     "metadata": {},
     "output_type": "execute_result"
    }
   ],
   "source": [
    "len(time_series_df['country'].unique())"
   ]
  },
  {
   "cell_type": "code",
   "execution_count": 28,
   "metadata": {},
   "outputs": [
    {
     "data": {
      "text/plain": [
       "25"
      ]
     },
     "execution_count": 28,
     "metadata": {},
     "output_type": "execute_result"
    }
   ],
   "source": [
    "len(time_series_df['indicator'].unique())"
   ]
  },
  {
   "cell_type": "code",
   "execution_count": 30,
   "metadata": {},
   "outputs": [
    {
     "data": {
      "text/plain": [
       "{'TWN'}"
      ]
     },
     "execution_count": 30,
     "metadata": {},
     "output_type": "execute_result"
    }
   ],
   "source": [
    "set(c_list) - set(time_series_df['country'].unique())"
   ]
  },
  {
   "cell_type": "code",
   "execution_count": 31,
   "metadata": {},
   "outputs": [
    {
     "data": {
      "text/plain": [
       "195"
      ]
     },
     "execution_count": 31,
     "metadata": {},
     "output_type": "execute_result"
    }
   ],
   "source": [
    "len(set(c_list))"
   ]
  },
  {
   "cell_type": "markdown",
   "metadata": {},
   "source": [
    "NOTE: no results returned for TWN, but did exist in WB country list. \n",
    "\n",
    "see: https://datahelpdesk.worldbank.org/knowledgebase/articles/114933-where-are-your-data-on-taiwan\n",
    "and: https://datahelpdesk.worldbank.org/knowledgebase/articles/378834-how-does-the-world-bank-classify-countries"
   ]
  },
  {
   "cell_type": "code",
   "execution_count": 32,
   "metadata": {},
   "outputs": [
    {
     "data": {
      "text/html": [
       "<div>\n",
       "<style scoped>\n",
       "    .dataframe tbody tr th:only-of-type {\n",
       "        vertical-align: middle;\n",
       "    }\n",
       "\n",
       "    .dataframe tbody tr th {\n",
       "        vertical-align: top;\n",
       "    }\n",
       "\n",
       "    .dataframe thead th {\n",
       "        text-align: right;\n",
       "    }\n",
       "</style>\n",
       "<table border=\"1\" class=\"dataframe\">\n",
       "  <thead>\n",
       "    <tr style=\"text-align: right;\">\n",
       "      <th></th>\n",
       "      <th>country</th>\n",
       "      <th>indicator</th>\n",
       "      <th>year</th>\n",
       "      <th>value</th>\n",
       "      <th>decimal</th>\n",
       "    </tr>\n",
       "  </thead>\n",
       "  <tbody>\n",
       "    <tr>\n",
       "      <th>0</th>\n",
       "      <td>AFG</td>\n",
       "      <td>NY.GDP.MKTP.CD</td>\n",
       "      <td>2019</td>\n",
       "      <td>NaN</td>\n",
       "      <td>0</td>\n",
       "    </tr>\n",
       "    <tr>\n",
       "      <th>1</th>\n",
       "      <td>AFG</td>\n",
       "      <td>NY.GDP.MKTP.CD</td>\n",
       "      <td>2018</td>\n",
       "      <td>1.936297e+10</td>\n",
       "      <td>0</td>\n",
       "    </tr>\n",
       "    <tr>\n",
       "      <th>2</th>\n",
       "      <td>AFG</td>\n",
       "      <td>NY.GDP.MKTP.CD</td>\n",
       "      <td>2017</td>\n",
       "      <td>2.019176e+10</td>\n",
       "      <td>0</td>\n",
       "    </tr>\n",
       "    <tr>\n",
       "      <th>3</th>\n",
       "      <td>AFG</td>\n",
       "      <td>NY.GDP.MKTP.CD</td>\n",
       "      <td>2016</td>\n",
       "      <td>1.936264e+10</td>\n",
       "      <td>0</td>\n",
       "    </tr>\n",
       "    <tr>\n",
       "      <th>4</th>\n",
       "      <td>AFG</td>\n",
       "      <td>NY.GDP.MKTP.CD</td>\n",
       "      <td>2015</td>\n",
       "      <td>1.990711e+10</td>\n",
       "      <td>0</td>\n",
       "    </tr>\n",
       "    <tr>\n",
       "      <th>...</th>\n",
       "      <td>...</td>\n",
       "      <td>...</td>\n",
       "      <td>...</td>\n",
       "      <td>...</td>\n",
       "      <td>...</td>\n",
       "    </tr>\n",
       "    <tr>\n",
       "      <th>290995</th>\n",
       "      <td>ZWE</td>\n",
       "      <td>SP.DYN.IMRT.IN</td>\n",
       "      <td>1964</td>\n",
       "      <td>8.320000e+01</td>\n",
       "      <td>0</td>\n",
       "    </tr>\n",
       "    <tr>\n",
       "      <th>290996</th>\n",
       "      <td>ZWE</td>\n",
       "      <td>SP.DYN.IMRT.IN</td>\n",
       "      <td>1963</td>\n",
       "      <td>8.570000e+01</td>\n",
       "      <td>0</td>\n",
       "    </tr>\n",
       "    <tr>\n",
       "      <th>290997</th>\n",
       "      <td>ZWE</td>\n",
       "      <td>SP.DYN.IMRT.IN</td>\n",
       "      <td>1962</td>\n",
       "      <td>8.810000e+01</td>\n",
       "      <td>0</td>\n",
       "    </tr>\n",
       "    <tr>\n",
       "      <th>290998</th>\n",
       "      <td>ZWE</td>\n",
       "      <td>SP.DYN.IMRT.IN</td>\n",
       "      <td>1961</td>\n",
       "      <td>9.050000e+01</td>\n",
       "      <td>0</td>\n",
       "    </tr>\n",
       "    <tr>\n",
       "      <th>290999</th>\n",
       "      <td>ZWE</td>\n",
       "      <td>SP.DYN.IMRT.IN</td>\n",
       "      <td>1960</td>\n",
       "      <td>9.280000e+01</td>\n",
       "      <td>0</td>\n",
       "    </tr>\n",
       "  </tbody>\n",
       "</table>\n",
       "<p>291000 rows × 5 columns</p>\n",
       "</div>"
      ],
      "text/plain": [
       "       country       indicator  year         value  decimal\n",
       "0          AFG  NY.GDP.MKTP.CD  2019           NaN        0\n",
       "1          AFG  NY.GDP.MKTP.CD  2018  1.936297e+10        0\n",
       "2          AFG  NY.GDP.MKTP.CD  2017  2.019176e+10        0\n",
       "3          AFG  NY.GDP.MKTP.CD  2016  1.936264e+10        0\n",
       "4          AFG  NY.GDP.MKTP.CD  2015  1.990711e+10        0\n",
       "...        ...             ...   ...           ...      ...\n",
       "290995     ZWE  SP.DYN.IMRT.IN  1964  8.320000e+01        0\n",
       "290996     ZWE  SP.DYN.IMRT.IN  1963  8.570000e+01        0\n",
       "290997     ZWE  SP.DYN.IMRT.IN  1962  8.810000e+01        0\n",
       "290998     ZWE  SP.DYN.IMRT.IN  1961  9.050000e+01        0\n",
       "290999     ZWE  SP.DYN.IMRT.IN  1960  9.280000e+01        0\n",
       "\n",
       "[291000 rows x 5 columns]"
      ]
     },
     "execution_count": 32,
     "metadata": {},
     "output_type": "execute_result"
    }
   ],
   "source": [
    "time_series_df = time_series_df.drop(columns = ['scale', 'unit', 'obs_status'])\n",
    "time_series_df"
   ]
  },
  {
   "cell_type": "code",
   "execution_count": 33,
   "metadata": {},
   "outputs": [
    {
     "data": {
      "text/plain": [
       "0"
      ]
     },
     "execution_count": 33,
     "metadata": {},
     "output_type": "execute_result"
    }
   ],
   "source": [
    "time_series_df.duplicated(subset=['country', 'indicator', 'year']).sum()"
   ]
  },
  {
   "cell_type": "markdown",
   "metadata": {},
   "source": [
    "## Export to csv"
   ]
  },
  {
   "cell_type": "code",
   "execution_count": 34,
   "metadata": {},
   "outputs": [],
   "source": [
    "time_series_df.to_csv(\"../Data/FINAL/wdi_top25.csv\", index=False)"
   ]
  },
  {
   "cell_type": "code",
   "execution_count": null,
   "metadata": {},
   "outputs": [],
   "source": []
  }
 ],
 "metadata": {
  "kernelspec": {
   "display_name": "Python 3",
   "language": "python",
   "name": "python3"
  },
  "language_info": {
   "codemirror_mode": {
    "name": "ipython",
    "version": 3
   },
   "file_extension": ".py",
   "mimetype": "text/x-python",
   "name": "python",
   "nbconvert_exporter": "python",
   "pygments_lexer": "ipython3",
   "version": "3.8.0"
  }
 },
 "nbformat": 4,
 "nbformat_minor": 4
}
