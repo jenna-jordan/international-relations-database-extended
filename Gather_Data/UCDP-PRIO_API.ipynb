{
 "cells": [
  {
   "cell_type": "markdown",
   "metadata": {},
   "source": [
    "# Get UCDP/PRIO Armed Conflict dataset via API\n",
    "\n",
    "3 October 2019\n",
    "\n",
    "API Documentation can be accessed here: https://ucdp.uu.se/apidocs/\n",
    "\n",
    "general format: \n",
    "`http://ucdpapi.pcr.uu.se/api/<resource>/<version>?<pagesize=x>&<page=x>`\n",
    "\n",
    "for filtered data:\n",
    "`http://ucdpapi.pcr.uu.se/api/<resource>/<version>?<pagesize=x>&<page=x>[&<filter>=<condition1,[condition2]>...]`"
   ]
  },
  {
   "cell_type": "code",
   "execution_count": 1,
   "metadata": {},
   "outputs": [],
   "source": [
    "import requests\n",
    "import pandas as pd"
   ]
  },
  {
   "cell_type": "code",
   "execution_count": 2,
   "metadata": {},
   "outputs": [],
   "source": [
    "baseurl = \"http://ucdpapi.pcr.uu.se/api/\"\n",
    "resource = \"ucdpprioconflict\"\n",
    "version = \"19.1\"\n",
    "pagesize = \"1000\"\n",
    "fullurl = baseurl + resource + \"/\" + version + \"?pagesize=\" + pagesize"
   ]
  },
  {
   "cell_type": "code",
   "execution_count": 3,
   "metadata": {},
   "outputs": [
    {
     "name": "stdout",
     "output_type": "stream",
     "text": [
      "Data successfully gathered! There are 2384 observations.\n"
     ]
    }
   ],
   "source": [
    "data = []\n",
    "notdone = True\n",
    "url = fullurl\n",
    "row_count = 0\n",
    "\n",
    "while notdone:\n",
    "    r = requests.get(url)\n",
    "    raw = r.json()\n",
    "    \n",
    "    nexturl = raw['NextPageUrl']\n",
    "    result = raw['Result']\n",
    "    \n",
    "    for obs in result:\n",
    "        data.append(obs)\n",
    "        \n",
    "    if nexturl == '':\n",
    "        row_count = raw['TotalCount']\n",
    "        notdone = False\n",
    "    else:\n",
    "        url = nexturl\n",
    "\n",
    "if len(data) == row_count:\n",
    "    print(\"Data successfully gathered! There are \" + str(row_count) + \" observations.\")"
   ]
  },
  {
   "cell_type": "code",
   "execution_count": 4,
   "metadata": {},
   "outputs": [
    {
     "data": {
      "text/plain": [
       "Index(['conflict_id', 'cumulative_intensity', 'ep_end', 'ep_end_date',\n",
       "       'ep_end_prec', 'gwno_a', 'gwno_a_2nd', 'gwno_b', 'gwno_b_2nd',\n",
       "       'gwno_loc', 'incompatibility', 'intensity_level', 'location', 'region',\n",
       "       'side_a', 'side_a_2nd', 'side_a_id', 'side_b', 'side_b_2nd',\n",
       "       'side_b_id', 'start_date', 'start_date2', 'start_prec', 'start_prec2',\n",
       "       'territory_name', 'type_of_conflict', 'version', 'year'],\n",
       "      dtype='object')"
      ]
     },
     "execution_count": 4,
     "metadata": {},
     "output_type": "execute_result"
    }
   ],
   "source": [
    "df = pd.DataFrame(data)\n",
    "df.columns"
   ]
  },
  {
   "cell_type": "code",
   "execution_count": 5,
   "metadata": {},
   "outputs": [],
   "source": [
    "df.to_csv(\"../Data/UCDP_PRIO/ucdpprio_armedconflict_api.csv\", encoding='utf-8', index=False)"
   ]
  }
 ],
 "metadata": {
  "kernelspec": {
   "display_name": "Python 3",
   "language": "python",
   "name": "python3"
  },
  "language_info": {
   "codemirror_mode": {
    "name": "ipython",
    "version": 3
   },
   "file_extension": ".py",
   "mimetype": "text/x-python",
   "name": "python",
   "nbconvert_exporter": "python",
   "pygments_lexer": "ipython3",
   "version": "3.6.8"
  }
 },
 "nbformat": 4,
 "nbformat_minor": 4
}
