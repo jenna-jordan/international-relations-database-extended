{
 "cells": [
  {
   "cell_type": "markdown",
   "metadata": {},
   "source": [
    "# Get development indicators from World Bank Databank\n",
    "\n",
    "10 October 2019\n",
    "\n",
    "API documentation can be accessed here: \n",
    "\n",
    "- https://datahelpdesk.worldbank.org/knowledgebase/articles/889392-about-the-indicators-api-documentation\n",
    "- https://datahelpdesk.worldbank.org/knowledgebase/articles/898590-country-api-queries\n",
    "- https://datahelpdesk.worldbank.org/knowledgebase/articles/898599-indicator-api-queries\n",
    "\n",
    "\n",
    "- To request all countries: `http://api.worldbank.org/v2/country?format=json`\n",
    "- general format for country call: `http://api.worldbank.org/v2/country/<ISO_CODE>?format=json`\n",
    "- To request all indicators: `http://api.worldbank.org/v2/indicator`\n",
    "- general format for indicator call: `http://api.worldbank.org/v2/indicators/<INDICATOR_CODE>?format=json`\n"
   ]
  },
  {
   "cell_type": "code",
   "execution_count": 1,
   "metadata": {},
   "outputs": [],
   "source": [
    "import requests\n",
    "import pandas as pd"
   ]
  },
  {
   "cell_type": "markdown",
   "metadata": {},
   "source": [
    "## Get all WB countries\n",
    "\n",
    "https://datahelpdesk.worldbank.org/knowledgebase/articles/898590-country-api-queries"
   ]
  },
  {
   "cell_type": "code",
   "execution_count": 2,
   "metadata": {},
   "outputs": [],
   "source": [
    "allcountries_url = \"http://api.worldbank.org/v2/country?format=json&per_page=400\"\n",
    "allcountries_raw = requests.get(allcountries_url)\n",
    "allcountries = allcountries_raw.json()[1]"
   ]
  },
  {
   "cell_type": "code",
   "execution_count": 3,
   "metadata": {},
   "outputs": [
    {
     "data": {
      "text/html": [
       "<div>\n",
       "<style scoped>\n",
       "    .dataframe tbody tr th:only-of-type {\n",
       "        vertical-align: middle;\n",
       "    }\n",
       "\n",
       "    .dataframe tbody tr th {\n",
       "        vertical-align: top;\n",
       "    }\n",
       "\n",
       "    .dataframe thead th {\n",
       "        text-align: right;\n",
       "    }\n",
       "</style>\n",
       "<table border=\"1\" class=\"dataframe\">\n",
       "  <thead>\n",
       "    <tr style=\"text-align: right;\">\n",
       "      <th></th>\n",
       "      <th>id</th>\n",
       "      <th>iso2code</th>\n",
       "      <th>name</th>\n",
       "      <th>region_id</th>\n",
       "      <th>region_iso2code</th>\n",
       "      <th>region_name</th>\n",
       "      <th>adminregion_id</th>\n",
       "      <th>adminregion_iso2code</th>\n",
       "      <th>adminregion_name</th>\n",
       "      <th>incomelevel_id</th>\n",
       "      <th>incomelevel_iso2code</th>\n",
       "      <th>incomelevel_value</th>\n",
       "      <th>lendingtype_id</th>\n",
       "      <th>lendingtype_iso2code</th>\n",
       "      <th>lendingtype_value</th>\n",
       "      <th>capitalcity</th>\n",
       "      <th>longitude</th>\n",
       "      <th>latitude</th>\n",
       "    </tr>\n",
       "  </thead>\n",
       "  <tbody>\n",
       "    <tr>\n",
       "      <th>0</th>\n",
       "      <td>ABW</td>\n",
       "      <td>AW</td>\n",
       "      <td>Aruba</td>\n",
       "      <td>LCN</td>\n",
       "      <td>ZJ</td>\n",
       "      <td>Latin America &amp; Caribbean</td>\n",
       "      <td></td>\n",
       "      <td></td>\n",
       "      <td></td>\n",
       "      <td>HIC</td>\n",
       "      <td>XD</td>\n",
       "      <td>High income</td>\n",
       "      <td>LNX</td>\n",
       "      <td>XX</td>\n",
       "      <td>Not classified</td>\n",
       "      <td>Oranjestad</td>\n",
       "      <td>-70.0167</td>\n",
       "      <td>12.5167</td>\n",
       "    </tr>\n",
       "    <tr>\n",
       "      <th>1</th>\n",
       "      <td>AFG</td>\n",
       "      <td>AF</td>\n",
       "      <td>Afghanistan</td>\n",
       "      <td>SAS</td>\n",
       "      <td>8S</td>\n",
       "      <td>South Asia</td>\n",
       "      <td>SAS</td>\n",
       "      <td>8S</td>\n",
       "      <td>South Asia</td>\n",
       "      <td>LIC</td>\n",
       "      <td>XM</td>\n",
       "      <td>Low income</td>\n",
       "      <td>IDX</td>\n",
       "      <td>XI</td>\n",
       "      <td>IDA</td>\n",
       "      <td>Kabul</td>\n",
       "      <td>69.1761</td>\n",
       "      <td>34.5228</td>\n",
       "    </tr>\n",
       "    <tr>\n",
       "      <th>2</th>\n",
       "      <td>AFR</td>\n",
       "      <td>A9</td>\n",
       "      <td>Africa</td>\n",
       "      <td>NA</td>\n",
       "      <td>NA</td>\n",
       "      <td>Aggregates</td>\n",
       "      <td></td>\n",
       "      <td></td>\n",
       "      <td></td>\n",
       "      <td>NA</td>\n",
       "      <td>NA</td>\n",
       "      <td>Aggregates</td>\n",
       "      <td></td>\n",
       "      <td></td>\n",
       "      <td>Aggregates</td>\n",
       "      <td></td>\n",
       "      <td></td>\n",
       "      <td></td>\n",
       "    </tr>\n",
       "    <tr>\n",
       "      <th>3</th>\n",
       "      <td>AGO</td>\n",
       "      <td>AO</td>\n",
       "      <td>Angola</td>\n",
       "      <td>SSF</td>\n",
       "      <td>ZG</td>\n",
       "      <td>Sub-Saharan Africa</td>\n",
       "      <td>SSA</td>\n",
       "      <td>ZF</td>\n",
       "      <td>Sub-Saharan Africa (excluding high income)</td>\n",
       "      <td>LMC</td>\n",
       "      <td>XN</td>\n",
       "      <td>Lower middle income</td>\n",
       "      <td>IBD</td>\n",
       "      <td>XF</td>\n",
       "      <td>IBRD</td>\n",
       "      <td>Luanda</td>\n",
       "      <td>13.242</td>\n",
       "      <td>-8.81155</td>\n",
       "    </tr>\n",
       "    <tr>\n",
       "      <th>4</th>\n",
       "      <td>ALB</td>\n",
       "      <td>AL</td>\n",
       "      <td>Albania</td>\n",
       "      <td>ECS</td>\n",
       "      <td>Z7</td>\n",
       "      <td>Europe &amp; Central Asia</td>\n",
       "      <td>ECA</td>\n",
       "      <td>7E</td>\n",
       "      <td>Europe &amp; Central Asia (excluding high income)</td>\n",
       "      <td>UMC</td>\n",
       "      <td>XT</td>\n",
       "      <td>Upper middle income</td>\n",
       "      <td>IBD</td>\n",
       "      <td>XF</td>\n",
       "      <td>IBRD</td>\n",
       "      <td>Tirane</td>\n",
       "      <td>19.8172</td>\n",
       "      <td>41.3317</td>\n",
       "    </tr>\n",
       "  </tbody>\n",
       "</table>\n",
       "</div>"
      ],
      "text/plain": [
       "    id iso2code         name region_id region_iso2code  \\\n",
       "0  ABW       AW        Aruba       LCN              ZJ   \n",
       "1  AFG       AF  Afghanistan       SAS              8S   \n",
       "2  AFR       A9       Africa        NA              NA   \n",
       "3  AGO       AO       Angola       SSF              ZG   \n",
       "4  ALB       AL      Albania       ECS              Z7   \n",
       "\n",
       "                  region_name adminregion_id adminregion_iso2code  \\\n",
       "0  Latin America & Caribbean                                        \n",
       "1                  South Asia            SAS                   8S   \n",
       "2                  Aggregates                                       \n",
       "3         Sub-Saharan Africa             SSA                   ZF   \n",
       "4       Europe & Central Asia            ECA                   7E   \n",
       "\n",
       "                                adminregion_name incomelevel_id  \\\n",
       "0                                                           HIC   \n",
       "1                                     South Asia            LIC   \n",
       "2                                                            NA   \n",
       "3     Sub-Saharan Africa (excluding high income)            LMC   \n",
       "4  Europe & Central Asia (excluding high income)            UMC   \n",
       "\n",
       "  incomelevel_iso2code    incomelevel_value lendingtype_id  \\\n",
       "0                   XD          High income            LNX   \n",
       "1                   XM           Low income            IDX   \n",
       "2                   NA           Aggregates                  \n",
       "3                   XN  Lower middle income            IBD   \n",
       "4                   XT  Upper middle income            IBD   \n",
       "\n",
       "  lendingtype_iso2code lendingtype_value capitalcity longitude  latitude  \n",
       "0                   XX    Not classified  Oranjestad  -70.0167   12.5167  \n",
       "1                   XI               IDA       Kabul   69.1761   34.5228  \n",
       "2                             Aggregates                                  \n",
       "3                   XF              IBRD      Luanda    13.242  -8.81155  \n",
       "4                   XF              IBRD      Tirane   19.8172   41.3317  "
      ]
     },
     "execution_count": 3,
     "metadata": {},
     "output_type": "execute_result"
    }
   ],
   "source": [
    "allcountries_todf = []\n",
    "\n",
    "for c in allcountries:\n",
    "    country = {'id': c['id'], 'iso2code': c['iso2Code'], 'name': c['name'], \n",
    "               'region_id': c['region']['id'], 'region_iso2code': c['region']['iso2code'], 'region_name': c['region']['value'], \n",
    "               'adminregion_id': c['adminregion']['id'], 'adminregion_iso2code': c['adminregion']['iso2code'], 'adminregion_name': c['adminregion']['value'], \n",
    "               'incomelevel_id': c['incomeLevel']['id'], 'incomelevel_iso2code': c['incomeLevel']['iso2code'], 'incomelevel_value': c['incomeLevel']['value'],\n",
    "               'lendingtype_id': c['lendingType']['id'], 'lendingtype_iso2code': c['lendingType']['iso2code'], 'lendingtype_value': c['lendingType']['value'],\n",
    "               'capitalcity': c['capitalCity'], 'longitude': c['longitude'], 'latitude': c['latitude']}\n",
    "    allcountries_todf.append(country)\n",
    "\n",
    "allcountries_df = pd.DataFrame(allcountries_todf)\n",
    "allcountries_df.head()"
   ]
  },
  {
   "cell_type": "code",
   "execution_count": 4,
   "metadata": {},
   "outputs": [
    {
     "data": {
      "text/plain": [
       "Index(['id', 'iso2code', 'name', 'region_id', 'region_iso2code', 'region_name',\n",
       "       'adminregion_id', 'adminregion_iso2code', 'adminregion_name',\n",
       "       'incomelevel_id', 'incomelevel_iso2code', 'incomelevel_value',\n",
       "       'lendingtype_id', 'lendingtype_iso2code', 'lendingtype_value',\n",
       "       'capitalcity', 'longitude', 'latitude'],\n",
       "      dtype='object')"
      ]
     },
     "execution_count": 4,
     "metadata": {},
     "output_type": "execute_result"
    }
   ],
   "source": [
    "allcountries_df.columns"
   ]
  },
  {
   "cell_type": "code",
   "execution_count": 5,
   "metadata": {},
   "outputs": [],
   "source": [
    "countries_df = allcountries_df[['id', 'iso2code', 'name', 'capitalcity', 'latitude', 'longitude', \n",
    "                                   'region_name', 'adminregion_name', 'incomelevel_value', 'lendingtype_value']]\n",
    "\n",
    "region_df = allcountries_df[['region_id', 'region_iso2code', 'region_name']].drop_duplicates()\n",
    "adminregion_df = allcountries_df[['adminregion_id', 'adminregion_iso2code', 'adminregion_name']].drop_duplicates()\n",
    "incomelevel_df = allcountries_df[['incomelevel_id', 'incomelevel_iso2code', 'incomelevel_value']].drop_duplicates()\n",
    "lendingtype_df = allcountries_df[['lendingtype_id', 'lendingtype_iso2code', 'lendingtype_value']].drop_duplicates()"
   ]
  },
  {
   "cell_type": "code",
   "execution_count": 6,
   "metadata": {},
   "outputs": [],
   "source": [
    "countries_df.to_csv('../Data/WorldBank/Raw_API/countries_list.csv', index=False)\n",
    "region_df.to_csv('../Data/WorldBank/Raw_API/region_codes.csv', index=False)\n",
    "adminregion_df.to_csv('../Data/WorldBank/Raw_API/adminregion_codes.csv', index=False)\n",
    "incomelevel_df.to_csv('../Data/WorldBank/Raw_API/incomelevel_codes.csv', index=False)\n",
    "lendingtype_df.to_csv('../Data/WorldBank/Raw_API/lendinglevel_codes.csv', index=False)"
   ]
  },
  {
   "cell_type": "markdown",
   "metadata": {},
   "source": [
    "## Get all WB indicators\n",
    "\n",
    "https://datahelpdesk.worldbank.org/knowledgebase/articles/898599-indicator-api-queries"
   ]
  },
  {
   "cell_type": "code",
   "execution_count": 7,
   "metadata": {},
   "outputs": [],
   "source": [
    "allindicators_url = \"http://api.worldbank.org/v2/indicator?format=json&per_page=20000\"\n",
    "allindicators_raw = requests.get(allindicators_url)\n",
    "allindicators = allindicators_raw.json()[1]"
   ]
  },
  {
   "cell_type": "code",
   "execution_count": 8,
   "metadata": {},
   "outputs": [
    {
     "data": {
      "text/plain": [
       "17298"
      ]
     },
     "execution_count": 8,
     "metadata": {},
     "output_type": "execute_result"
    }
   ],
   "source": [
    "len(allindicators)"
   ]
  },
  {
   "cell_type": "code",
   "execution_count": 9,
   "metadata": {},
   "outputs": [
    {
     "data": {
      "text/html": [
       "<div>\n",
       "<style scoped>\n",
       "    .dataframe tbody tr th:only-of-type {\n",
       "        vertical-align: middle;\n",
       "    }\n",
       "\n",
       "    .dataframe tbody tr th {\n",
       "        vertical-align: top;\n",
       "    }\n",
       "\n",
       "    .dataframe thead th {\n",
       "        text-align: right;\n",
       "    }\n",
       "</style>\n",
       "<table border=\"1\" class=\"dataframe\">\n",
       "  <thead>\n",
       "    <tr style=\"text-align: right;\">\n",
       "      <th></th>\n",
       "      <th>id</th>\n",
       "      <th>name</th>\n",
       "      <th>source</th>\n",
       "      <th>source_note</th>\n",
       "      <th>source_organization</th>\n",
       "    </tr>\n",
       "  </thead>\n",
       "  <tbody>\n",
       "    <tr>\n",
       "      <th>0</th>\n",
       "      <td>1.0.HCount.1.90usd</td>\n",
       "      <td>Poverty Headcount ($1.90 a day)</td>\n",
       "      <td>LAC Equity Lab</td>\n",
       "      <td>The poverty headcount index measures the propo...</td>\n",
       "      <td>LAC Equity Lab tabulations of SEDLAC (CEDLAS a...</td>\n",
       "    </tr>\n",
       "    <tr>\n",
       "      <th>1</th>\n",
       "      <td>1.0.HCount.2.5usd</td>\n",
       "      <td>Poverty Headcount ($2.50 a day)</td>\n",
       "      <td>LAC Equity Lab</td>\n",
       "      <td>The poverty headcount index measures the propo...</td>\n",
       "      <td>LAC Equity Lab tabulations of SEDLAC (CEDLAS a...</td>\n",
       "    </tr>\n",
       "    <tr>\n",
       "      <th>2</th>\n",
       "      <td>1.0.HCount.Mid10to50</td>\n",
       "      <td>Middle Class ($10-50 a day) Headcount</td>\n",
       "      <td>LAC Equity Lab</td>\n",
       "      <td>The poverty headcount index measures the propo...</td>\n",
       "      <td>LAC Equity Lab tabulations of SEDLAC (CEDLAS a...</td>\n",
       "    </tr>\n",
       "    <tr>\n",
       "      <th>3</th>\n",
       "      <td>1.0.HCount.Ofcl</td>\n",
       "      <td>Official Moderate Poverty Rate-National</td>\n",
       "      <td>LAC Equity Lab</td>\n",
       "      <td>The poverty headcount index measures the propo...</td>\n",
       "      <td>LAC Equity Lab tabulations of data from Nation...</td>\n",
       "    </tr>\n",
       "    <tr>\n",
       "      <th>4</th>\n",
       "      <td>1.0.HCount.Poor4uds</td>\n",
       "      <td>Poverty Headcount ($4 a day)</td>\n",
       "      <td>LAC Equity Lab</td>\n",
       "      <td>The poverty headcount index measures the propo...</td>\n",
       "      <td>LAC Equity Lab tabulations of SEDLAC (CEDLAS a...</td>\n",
       "    </tr>\n",
       "  </tbody>\n",
       "</table>\n",
       "</div>"
      ],
      "text/plain": [
       "                     id                                     name  \\\n",
       "0    1.0.HCount.1.90usd          Poverty Headcount ($1.90 a day)   \n",
       "1     1.0.HCount.2.5usd          Poverty Headcount ($2.50 a day)   \n",
       "2  1.0.HCount.Mid10to50    Middle Class ($10-50 a day) Headcount   \n",
       "3       1.0.HCount.Ofcl  Official Moderate Poverty Rate-National   \n",
       "4   1.0.HCount.Poor4uds             Poverty Headcount ($4 a day)   \n",
       "\n",
       "           source                                        source_note  \\\n",
       "0  LAC Equity Lab  The poverty headcount index measures the propo...   \n",
       "1  LAC Equity Lab  The poverty headcount index measures the propo...   \n",
       "2  LAC Equity Lab  The poverty headcount index measures the propo...   \n",
       "3  LAC Equity Lab  The poverty headcount index measures the propo...   \n",
       "4  LAC Equity Lab  The poverty headcount index measures the propo...   \n",
       "\n",
       "                                 source_organization  \n",
       "0  LAC Equity Lab tabulations of SEDLAC (CEDLAS a...  \n",
       "1  LAC Equity Lab tabulations of SEDLAC (CEDLAS a...  \n",
       "2  LAC Equity Lab tabulations of SEDLAC (CEDLAS a...  \n",
       "3  LAC Equity Lab tabulations of data from Nation...  \n",
       "4  LAC Equity Lab tabulations of SEDLAC (CEDLAS a...  "
      ]
     },
     "execution_count": 9,
     "metadata": {},
     "output_type": "execute_result"
    }
   ],
   "source": [
    "allindicators_todf = []\n",
    "indicator_topics = []\n",
    "source_list = []\n",
    "topic_list = []\n",
    "\n",
    "for i in allindicators:\n",
    "    source = i['source']\n",
    "    source_list.append(source)\n",
    "    \n",
    "    topics = i['topics']\n",
    "    if len(topics):\n",
    "        topic_list.extend(topics)\n",
    "    \n",
    "    indicator = {'id': i['id'], 'name': i['name'], 'source': source['value'], \n",
    "                 'source_note': i['sourceNote'], 'source_organization': i['sourceOrganization']}\n",
    "    \n",
    "    \n",
    "    if len(topics):\n",
    "        for t in topics:\n",
    "            try:\n",
    "                indicator_topic = {'indicator_id': i['id'], 'topic_id': t['id'], 'topic_value': t['value']}\n",
    "            except KeyError:\n",
    "                indicator_topic = {'indicator_id': i['id'], 'topic_id': '', 'topic_value': ''}\n",
    "            \n",
    "            indicator_topics.append(indicator_topic)\n",
    "    \n",
    "    allindicators_todf.append(indicator)\n",
    "\n",
    "allindicators_df = pd.DataFrame(allindicators_todf).drop_duplicates()\n",
    "allindicators_df.head()"
   ]
  },
  {
   "cell_type": "code",
   "execution_count": 10,
   "metadata": {},
   "outputs": [],
   "source": [
    "source_list_df = pd.DataFrame(source_list).drop_duplicates()\n",
    "source_list_df['id'] = source_list_df['id'].astype(int)\n",
    "source_list_df = source_list_df.sort_values(by=['id']).set_index('id')"
   ]
  },
  {
   "cell_type": "code",
   "execution_count": 11,
   "metadata": {},
   "outputs": [],
   "source": [
    "topic_list_df = pd.DataFrame(topic_list).drop_duplicates().dropna()\n",
    "topic_list_df['id'] = topic_list_df['id'].astype(int)\n",
    "topic_list_df = topic_list_df.sort_values(by=['id']).set_index('id')"
   ]
  },
  {
   "cell_type": "code",
   "execution_count": 12,
   "metadata": {},
   "outputs": [],
   "source": [
    "indicator_topics_df = pd.DataFrame(indicator_topics)"
   ]
  },
  {
   "cell_type": "code",
   "execution_count": 13,
   "metadata": {},
   "outputs": [],
   "source": [
    "wdi = allindicators_df[allindicators_df['source'] == 'World Development Indicators']"
   ]
  },
  {
   "cell_type": "code",
   "execution_count": 14,
   "metadata": {},
   "outputs": [],
   "source": [
    "wdi_wtopics = wdi.merge(indicator_topics_df, left_on='id', right_on='indicator_id')\n",
    "wdi_wtopics = wdi_wtopics.drop(columns=['indicator_id', 'topic_id'])"
   ]
  },
  {
   "cell_type": "code",
   "execution_count": 15,
   "metadata": {},
   "outputs": [
    {
     "data": {
      "text/plain": [
       "Health                               252\n",
       "Economy & Growth                     247\n",
       "Private Sector                       165\n",
       "Gender                               163\n",
       "Social Protection & Labor            156\n",
       "Education                            154\n",
       "Trade                                146\n",
       "Environment                          135\n",
       "Public Sector                         97\n",
       "Climate Change                        76\n",
       "Aid Effectiveness                     70\n",
       "Financial Sector                      64\n",
       "External Debt                         61\n",
       "Energy & Mining                       50\n",
       "Infrastructure                        47\n",
       "Agriculture & Rural Development       44\n",
       "Social Development                    34\n",
       "Poverty                               25\n",
       "Urban Development                     21\n",
       "Science & Technology                  13\n",
       "Millenium development goals            5\n",
       "Name: topic_value, dtype: int64"
      ]
     },
     "execution_count": 15,
     "metadata": {},
     "output_type": "execute_result"
    }
   ],
   "source": [
    "wdi_wtopics['topic_value'].value_counts()"
   ]
  },
  {
   "cell_type": "code",
   "execution_count": 16,
   "metadata": {},
   "outputs": [],
   "source": [
    "allindicators_df.to_csv('../Data/WorldBank/Raw_API/indicators_list.csv', index=False)\n",
    "source_list_df.to_csv('../Data/WorldBank/Raw_API/indicator-sources_codes.csv', index=False)\n",
    "topic_list_df.to_csv('../Data/WorldBank/Raw_API/indicator-topics_codes.csv', index=False)\n",
    "wdi_wtopics.to_csv('../Data/WorldBank/Raw_API/indicators-wdi-wtopics.csv', index=False)"
   ]
  }
 ],
 "metadata": {
  "kernelspec": {
   "display_name": "Python 3",
   "language": "python",
   "name": "python3"
  },
  "language_info": {
   "codemirror_mode": {
    "name": "ipython",
    "version": 3
   },
   "file_extension": ".py",
   "mimetype": "text/x-python",
   "name": "python",
   "nbconvert_exporter": "python",
   "pygments_lexer": "ipython3",
   "version": "3.6.7"
  }
 },
 "nbformat": 4,
 "nbformat_minor": 4
}
