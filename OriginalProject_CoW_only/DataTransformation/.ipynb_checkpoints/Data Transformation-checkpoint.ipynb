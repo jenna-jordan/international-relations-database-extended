{
 "cells": [
  {
   "cell_type": "markdown",
   "metadata": {},
   "source": [
    "# Start of Data Transformation\n",
    "\n",
    "Task: use Pandas to transform csv files into DataFrames that match desired tables for database schema\n",
    "\n",
    "Tables:\n",
    "\n",
    "- POLITY\n",
    "- STATE_DATES\n",
    "- STATE_CONTIGUITY\n",
    "- TERRITORY_DATES\n",
    "- TERRITORIALCHANGE\n",
    "- STATE_RESOURCE\n",
    "- IGO\n",
    "- IGO_MEMBERSHIP\n",
    "- STATE_ALLIANCE\n",
    "- ALLIANCE_MEMBERSHIP\n",
    "- ALLIANCE_TRAITS\n",
    "- WAR\n",
    "- WAR_LOCATION\n",
    "- WAR_PARTICIPANTS\n",
    "- WAR_TRANSITIONS"
   ]
  },
  {
   "cell_type": "code",
   "execution_count": 1,
   "metadata": {},
   "outputs": [],
   "source": [
    "import pandas as pd\n",
    "import numpy as np"
   ]
  },
  {
   "cell_type": "code",
   "execution_count": 2,
   "metadata": {},
   "outputs": [
    {
     "name": "stdout",
     "output_type": "stream",
     "text": [
      "\u001b[34mCodebooks\u001b[m\u001b[m                    MID_Narratives_2002-2010.pdf\r\n",
      "CowWarList.csv               NMC_5_0-wsupplementary.csv\r\n",
      "CowWarList.pdf               Non-StateWarData_v4.0.csv\r\n",
      "\u001b[31mEntities.pdf\u001b[m\u001b[m                 Territories.csv\r\n",
      "Extra-StateWarData_v4.0.csv  alliance_v4.1_by_member.csv\r\n",
      "IGO_stateunit_v2.3.csv       contdir.csv\r\n",
      "Inter-StateWarData_v4.0.csv  igounit_v2.3.csv\r\n",
      "Intra-StateWarData_v4.1.csv  majors2016.csv\r\n",
      "\u001b[31mMIDA_4.2.csv\u001b[m\u001b[m                 states2016.csv\r\n",
      "\u001b[31mMIDB_4.2.csv\u001b[m\u001b[m                 system2016.csv\r\n",
      "\u001b[31mMIDLOCA_2.0.csv\u001b[m\u001b[m              tc2014.csv\r\n",
      "MID_Narratives_1993-2001.pdf\r\n"
     ]
    }
   ],
   "source": [
    "!ls SourceData/CorrelatesOfWar/"
   ]
  },
  {
   "cell_type": "code",
   "execution_count": null,
   "metadata": {},
   "outputs": [],
   "source": []
  }
 ],
 "metadata": {
  "kernelspec": {
   "display_name": "Python 3",
   "language": "python",
   "name": "python3"
  },
  "language_info": {
   "codemirror_mode": {
    "name": "ipython",
    "version": 3
   },
   "file_extension": ".py",
   "mimetype": "text/x-python",
   "name": "python",
   "nbconvert_exporter": "python",
   "pygments_lexer": "ipython3",
   "version": "3.6.5"
  }
 },
 "nbformat": 4,
 "nbformat_minor": 2
}
