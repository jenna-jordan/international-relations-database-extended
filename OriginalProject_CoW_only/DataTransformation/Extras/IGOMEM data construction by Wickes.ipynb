{
 "cells": [
  {
   "cell_type": "code",
   "execution_count": 6,
   "metadata": {
    "collapsed": true
   },
   "outputs": [],
   "source": [
    "import csv"
   ]
  },
  {
   "cell_type": "code",
   "execution_count": 58,
   "metadata": {
    "collapsed": true
   },
   "outputs": [],
   "source": [
    "def get_start_stop_pairs(sorted_years_list):\n",
    "    \"\"\"pass this a sorted list of years\"\"\"\n",
    "    pairs = []\n",
    "    if len(sorted_years_list) == 1:\n",
    "        pairs.append((sorted_years_list[0], sorted_years_list[0]))\n",
    "    else:\n",
    "        start = int(sorted_years_list[0])\n",
    "        pair = [start]\n",
    "        nextyear = start + 1\n",
    "        previous = start\n",
    "        for year in sorted_years_list[1:]:\n",
    "            year = int(year)\n",
    "            if year == nextyear:\n",
    "                nextyear += 1\n",
    "                previous = year\n",
    "            else:\n",
    "                pair.append(previous)\n",
    "                pairs.append(pair)\n",
    "                pair = [year]\n",
    "                nextyear = year + 1\n",
    "                if year == sorted_years_list[-1]:\n",
    "                    pair.append(year)\n",
    "                    pairs.append(pair)\n",
    "    return pairs"
   ]
  },
  {
   "cell_type": "code",
   "execution_count": 63,
   "metadata": {},
   "outputs": [],
   "source": [
    "with open('IGO_stateunit_v2.3.csv',  'r', encoding = 'latin-1') as fin:\n",
    "    csvin = csv.reader(fin)\n",
    "    headers = next(csvin)\n",
    "    data = [r for r in csvin]"
   ]
  },
  {
   "cell_type": "code",
   "execution_count": 66,
   "metadata": {},
   "outputs": [],
   "source": [
    "igos = headers[4:]\n",
    "\n",
    "countries = list(set([row[0] for row in data]))"
   ]
  },
  {
   "cell_type": "code",
   "execution_count": 65,
   "metadata": {},
   "outputs": [
    {
     "name": "stdout",
     "output_type": "stream",
     "text": [
      "AACB Zambia 1977 2001 25 13\n",
      "[[1977, 1988], [2001, 2001]] [1977, 1978, 1979, 1980, 1981, 1982, 1983, 1984, 1985, 1986, 1987, 1988, 2001]\n",
      "AACB Cameroon 1977 2001 25 24\n",
      "[[1977, 1988]] [1977, 1978, 1979, 1980, 1981, 1982, 1983, 1984, 1985, 1986, 1987, 1988, 1990, 1991, 1992, 1993, 1994, 1995, 1996, 1997, 1998, 1999, 2000, 2001]\n",
      "AALCO Egypt/UAR 1960 2005 46 42\n",
      "[[1960, 1960]] [1960, 1965, 1966, 1967, 1968, 1969, 1970, 1971, 1972, 1973, 1974, 1975, 1976, 1977, 1978, 1979, 1980, 1981, 1982, 1983, 1984, 1985, 1986, 1987, 1988, 1989, 1990, 1991, 1992, 1993, 1994, 1995, 1996, 1997, 1998, 1999, 2000, 2001, 2002, 2003, 2004, 2005]\n",
      "AALCO Pakistan 1960 2005 46 42\n",
      "[[1960, 1960]] [1960, 1965, 1966, 1967, 1968, 1969, 1970, 1971, 1972, 1973, 1974, 1975, 1976, 1977, 1978, 1979, 1980, 1981, 1982, 1983, 1984, 1985, 1986, 1987, 1988, 1989, 1990, 1991, 1992, 1993, 1994, 1995, 1996, 1997, 1998, 1999, 2000, 2001, 2002, 2003, 2004, 2005]\n",
      "AALCO Iraq 1960 2005 46 42\n",
      "[[1960, 1960]] [1960, 1965, 1966, 1967, 1968, 1969, 1970, 1971, 1972, 1973, 1974, 1975, 1976, 1977, 1978, 1979, 1980, 1981, 1982, 1983, 1984, 1985, 1986, 1987, 1988, 1989, 1990, 1991, 1992, 1993, 1994, 1995, 1996, 1997, 1998, 1999, 2000, 2001, 2002, 2003, 2004, 2005]\n",
      "AALCO India 1960 2005 46 42\n",
      "[[1960, 1960]] [1960, 1965, 1966, 1967, 1968, 1969, 1970, 1971, 1972, 1973, 1974, 1975, 1976, 1977, 1978, 1979, 1980, 1981, 1982, 1983, 1984, 1985, 1986, 1987, 1988, 1989, 1990, 1991, 1992, 1993, 1994, 1995, 1996, 1997, 1998, 1999, 2000, 2001, 2002, 2003, 2004, 2005]\n",
      "AALCO Japan 1960 2005 46 42\n",
      "[[1960, 1960]] [1960, 1965, 1966, 1967, 1968, 1969, 1970, 1971, 1972, 1973, 1974, 1975, 1976, 1977, 1978, 1979, 1980, 1981, 1982, 1983, 1984, 1985, 1986, 1987, 1988, 1989, 1990, 1991, 1992, 1993, 1994, 1995, 1996, 1997, 1998, 1999, 2000, 2001, 2002, 2003, 2004, 2005]\n",
      "AALCO Indonesia 1960 2005 46 42\n",
      "[[1960, 1960]] [1960, 1965, 1966, 1967, 1968, 1969, 1970, 1971, 1972, 1973, 1974, 1975, 1976, 1977, 1978, 1979, 1980, 1981, 1982, 1983, 1984, 1985, 1986, 1987, 1988, 1989, 1990, 1991, 1992, 1993, 1994, 1995, 1996, 1997, 1998, 1999, 2000, 2001, 2002, 2003, 2004, 2005]\n",
      "AALCO Myanmar/Burma 1960 2005 46 42\n",
      "[[1960, 1960]] [1960, 1965, 1966, 1967, 1968, 1969, 1970, 1971, 1972, 1973, 1974, 1975, 1976, 1977, 1978, 1979, 1980, 1981, 1982, 1983, 1984, 1985, 1986, 1987, 1988, 1989, 1990, 1991, 1992, 1993, 1994, 1995, 1996, 1997, 1998, 1999, 2000, 2001, 2002, 2003, 2004, 2005]\n",
      "AALCO Sri Lanka/Ceylon 1960 2005 46 42\n",
      "[[1960, 1960]] [1960, 1965, 1966, 1967, 1968, 1969, 1970, 1971, 1972, 1973, 1974, 1975, 1976, 1977, 1978, 1979, 1980, 1981, 1982, 1983, 1984, 1985, 1986, 1987, 1988, 1989, 1990, 1991, 1992, 1993, 1994, 1995, 1996, 1997, 1998, 1999, 2000, 2001, 2002, 2003, 2004, 2005]\n",
      "AALCO Thailand 1960 2005 46 42\n",
      "[[1960, 1960]] [1960, 1965, 1966, 1967, 1968, 1969, 1970, 1971, 1972, 1973, 1974, 1975, 1976, 1977, 1978, 1979, 1980, 1981, 1982, 1983, 1984, 1985, 1986, 1987, 1988, 1989, 1990, 1991, 1992, 1993, 1994, 1995, 1996, 1997, 1998, 1999, 2000, 2001, 2002, 2003, 2004, 2005]\n",
      "AATPO Senegal 1981 2002 22 11\n",
      "[[1981, 1989]] [1981, 1982, 1983, 1984, 1985, 1986, 1987, 1988, 1989, 2001, 2002]\n",
      "AATPO Egypt/UAR 1981 2002 22 11\n",
      "[[1981, 1989]] [1981, 1982, 1983, 1984, 1985, 1986, 1987, 1988, 1989, 2001, 2002]\n",
      "AATPO Uganda 1981 2001 21 20\n",
      "[[1981, 1989]] [1981, 1982, 1983, 1984, 1985, 1986, 1987, 1988, 1989, 1991, 1992, 1993, 1994, 1995, 1996, 1997, 1998, 1999, 2000, 2001]\n",
      "AATPO Central African Rep 1981 2002 22 11\n",
      "[[1981, 1989]] [1981, 1982, 1983, 1984, 1985, 1986, 1987, 1988, 1989, 2001, 2002]\n",
      "AATPO Burkina Faso/UV 1981 2002 22 20\n",
      "[[1981, 1987]] [1981, 1982, 1983, 1984, 1985, 1986, 1987, 1990, 1991, 1992, 1993, 1994, 1995, 1996, 1997, 1998, 1999, 2000, 2001, 2002]\n",
      "AATPO Niger 1984 2002 19 8\n",
      "[[1984, 1989]] [1984, 1985, 1986, 1987, 1988, 1989, 2001, 2002]\n",
      "AATPO Zambia 1981 2002 22 21\n",
      "[[1981, 1989]] [1981, 1982, 1983, 1984, 1985, 1986, 1987, 1988, 1989, 1991, 1992, 1993, 1994, 1995, 1996, 1997, 1998, 1999, 2000, 2001, 2002]\n",
      "AATPO Rwanda 1981 2002 22 11\n",
      "[[1981, 1989]] [1981, 1982, 1983, 1984, 1985, 1986, 1987, 1988, 1989, 2001, 2002]\n",
      "AATPO Ethiopia 1981 2002 22 11\n",
      "[[1981, 1989]] [1981, 1982, 1983, 1984, 1985, 1986, 1987, 1988, 1989, 2001, 2002]\n",
      "AATPO Burundi 1981 2002 22 19\n",
      "[[1981, 1987]] [1981, 1982, 1983, 1984, 1985, 1986, 1987, 1991, 1992, 1993, 1994, 1995, 1996, 1997, 1998, 1999, 2000, 2001, 2002]\n",
      "ABEDA Egypt/UAR 1974 2005 32 16\n",
      "[[1974, 1977]] [1974, 1975, 1976, 1977, 1994, 1995, 1996, 1997, 1998, 1999, 2000, 2001, 2002, 2003, 2004, 2005]\n"
     ]
    }
   ],
   "source": [
    "appearances = {}\n",
    "\n",
    "for igo in igos[:10]:\n",
    "    igopos = headers.index(igo)#igoindex[igo]\n",
    "    for country in countries:\n",
    "\n",
    "        countryfilter = [r for r in data if r[0] == country]\n",
    "        years = [r[3] for r in countryfilter]\n",
    "        nums = [r[igopos] for r in countryfilter]\n",
    "        yearswithin = []\n",
    "        for year, num in list(zip(years, nums)):\n",
    "            if int(num) == 1:\n",
    "                yearswithin.append(int(year))\n",
    "        yearswithin.sort()\n",
    "        if len(yearswithin) > 1:\n",
    "            startdate = yearswithin[0]\n",
    "            enddate = yearswithin[-1]\n",
    "        elif len(yearswithin):\n",
    "            startdate = yearswithin[0]\n",
    "            enddate = yearswithin[-1]\n",
    "        else:\n",
    "            startdate = \"missingNeverJoined\"\n",
    "            enddate = \"missingNeverJoined\"\n",
    "            continue\n",
    "        missingyears = not enddate - startdate + 1 == len(yearswithin)\n",
    "        if missingyears:\n",
    "            print(igo, countryfilter[0][1], startdate, enddate, enddate - startdate + 1, len(yearswithin))\n",
    "            print(get_start_stop_pairs(yearswithin), yearswithin)"
   ]
  },
  {
   "cell_type": "markdown",
   "metadata": {},
   "source": [
    "[1977, 1978, 1979, 1980, 1981, 1982, 1983, 1984, 1985, 1986, 1987, 1988, 2001]\n",
    "\n",
    "((1977, 1988),(2001, 2001))"
   ]
  },
  {
   "cell_type": "code",
   "execution_count": 50,
   "metadata": {},
   "outputs": [
    {
     "name": "stdout",
     "output_type": "stream",
     "text": [
      "[1977, 1988]\n"
     ]
    },
    {
     "data": {
      "text/plain": [
       "[[1977, 1988], [2001, 2001]]"
      ]
     },
     "execution_count": 50,
     "metadata": {},
     "output_type": "execute_result"
    }
   ],
   "source": [
    "get_start_stop_pairs([1977, 1978, 1979, 1980, 1981, 1982, 1983, 1984, 1985, 1986, 1987, 1988, 2001])"
   ]
  },
  {
   "cell_type": "code",
   "execution_count": null,
   "metadata": {
    "collapsed": true
   },
   "outputs": [],
   "source": []
  }
 ],
 "metadata": {
  "kernelspec": {
   "display_name": "Python 3",
   "language": "python",
   "name": "python3"
  },
  "language_info": {
   "codemirror_mode": {
    "name": "ipython",
    "version": 3
   },
   "file_extension": ".py",
   "mimetype": "text/x-python",
   "name": "python",
   "nbconvert_exporter": "python",
   "pygments_lexer": "ipython3",
   "version": "3.6.5"
  }
 },
 "nbformat": 4,
 "nbformat_minor": 2
}
