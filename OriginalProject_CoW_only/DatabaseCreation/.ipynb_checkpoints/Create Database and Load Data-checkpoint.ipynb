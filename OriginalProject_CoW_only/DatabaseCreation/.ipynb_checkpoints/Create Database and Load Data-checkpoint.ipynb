{
 "cells": [
  {
   "cell_type": "markdown",
   "metadata": {},
   "source": [
    "# Creating the Database File"
   ]
  },
  {
   "cell_type": "markdown",
   "metadata": {},
   "source": [
    "## Create the tables\n",
    "\n",
    "Note: this is done using the sqlite3 library\n",
    "\n",
    "1. Create the db file by connecting to it (if nonexistant it will create the file)\n",
    "2. Load the SQL table creation script saved in the DatabaseDesign folder\n",
    "3. Only one table can be created at a time, so split the table creation script into a list of strings, each string create one table\n",
    "4. Cycle through the list and execute each table creation statement\n",
    "5. Commit"
   ]
  },
  {
   "cell_type": "code",
   "execution_count": 1,
   "metadata": {},
   "outputs": [],
   "source": [
    "import sqlite3\n",
    "\n",
    "connection = sqlite3.connect(\"CoW.db\")\n",
    "\n",
    "c = connection.cursor()"
   ]
  },
  {
   "cell_type": "code",
   "execution_count": 2,
   "metadata": {},
   "outputs": [],
   "source": [
    "infile = open(\"../DatabaseDesign/IRDBtablecreation.sql\", \"r\")\n",
    "orig_creation_script = infile.read()\n",
    "infile.close()"
   ]
  },
  {
   "cell_type": "code",
   "execution_count": 3,
   "metadata": {},
   "outputs": [
    {
     "name": "stdout",
     "output_type": "stream",
     "text": [
      "New Table:\n",
      "CREATE TABLE POLITY\n",
      "  ( PolityID\t    NUMBER(5) NOT NULL,\n",
      "    PolityName\t  VARCHAR2(100),\n",
      "    PolityType    VARCHAR2(30) CHECK (PolityType IN('State', 'Territory', 'NonState Group', 'International Organization')),\n",
      "    StateAbbr\t    VARCHAR2(3),\n",
      "  CONSTRAINT POLITY_PK PRIMARY KEY (PolityID)\n",
      "  );\n",
      "\n",
      "New Table:\n",
      "CREATE TABLE STATE_DATES\n",
      "  ( StateID\t    NUMBER(5) NOT NULL,\n",
      "    StartDate\t  DATE NOT NULL,\n",
      "    EndDate\t    DATE,\n",
      "    StartYear\t  NUMBER(4),\n",
      "    StartMonth\tNUMBER(2),\n",
      "    StartDay\t  NUMBER(2),\n",
      "    EndYear\t    NUMBER(4),\n",
      "    EndMonth\t  NUMBER(2),\n",
      "    EndDay\t    NUMBER(2),\n",
      "  CONSTRAINT STATE_DATES_PK PRIMARY KEY (StateID, StartDate),\n",
      "  CONSTRAINT STATEDATES_TO_POLITY FOREIGN KEY (StateID)\n",
      "    REFERENCES POLITY (PolityID)\n",
      "  );\n",
      "\n",
      "New Table:\n",
      "CREATE TABLE STATE_CONTIGUITY\n",
      "  ( StateA\t    NUMBER(5) NOT NULL,\n",
      "    StateB\t    NUMBER(5) NOT NULL,\n",
      "    StartDate\t  DATE NOT NULL,\n",
      "    EndDate\t    DATE,\n",
      "    StartYear\t  NUMBER(4),\n",
      "    StartMonth\tNUMBER(2),\n",
      "    EndYear\t    NUMBER(4),\n",
      "    EndMonth\t  NUMBER(2),\n",
      "    Type\t      NUMBER(1) CHECK (Type IN(1, 2, 3, 4, 5)),\n",
      "    Notes\t      VARCHAR2(200),\n",
      "  CONSTRAINT STATE_CONTIGUITY_PK PRIMARY KEY (StateA, StateB, StartDate),\n",
      "  CONSTRAINT STATECONTA_TO_POLITY FOREIGN KEY (StateA)\n",
      "    REFERENCES POLITY (PolityID),\n",
      "  CONSTRAINT STATECONTB_TO_POLITY FOREIGN KEY (StateB)\n",
      "    REFERENCES POLITY (PolityID)\n",
      "  );\n",
      "\n",
      "New Table:\n",
      "CREATE TABLE TERRITORY_DATES\n",
      "  ( TerritoryID\t       NUMBER(5) NOT NULL,\n",
      "    StartYear          NUMBER(4) NOT NULL,\n",
      "    EndYear            NUMBER(4) NOT NULL,\n",
      "    EndingStatus       VARCHAR2(100) NOT NULL,\n",
      "    ReferencedPolityID NUMBER(5),\n",
      "  CONSTRAINT TERRITORY_PK PRIMARY KEY (TerritoryID, StartYear, EndYear, ReferencedPolityID),\n",
      "  CONSTRAINT TERRDATESTERR_TO_POLITY FOREIGN KEY (TerritoryID)\n",
      "    REFERENCES POLITY (PolityID),\n",
      "  CONSTRAINT TERRDATESPOL_TO_POLITY FOREIGN KEY (ReferencedPolityID)\n",
      "    REFERENCES POLITY (PolityID)\n",
      "  );\n",
      "\n",
      "New Table:\n",
      "CREATE TABLE TERRITORIALCHANGE\n",
      "  ( TerritorialChangeID\tNUMBER(3) NOT NULL,\n",
      "    Gainer\t            NUMBER(5),\n",
      "    Loser\t              NUMBER(5),\n",
      "    TransferDate\t      DATE,\n",
      "    Year\t              NUMBER(4),\n",
      "    Month\t              NUMBER(2),\n",
      "    Procedure\t          NUMBER(1) CHECK (Procedure IN(1, 2, 3, 4, 5, 6)),\n",
      "    TerritoryID\t        NUMBER(5),\n",
      "    TerritoryArea\t      NUMBER,\n",
      "    TerritoryPopulation\tNUMBER,\n",
      "    IsWholeTerritory\t  NUMBER(1) CHECK (IsWholeTerritory IN(0, 1)),\n",
      "    IsMilConflict\t      NUMBER(1) CHECK (IsMilConflict IN(0, 1)),\n",
      "    IsIndependence\t    NUMBER(1) CHECK (IsIndependence IN (0, 1)),\n",
      "    GainerIsCont\t      NUMBER(1) CHECK (GainerIsCont IN (0, 1)),\n",
      "    LoserIsCont\t        NUMBER(1) CHECK (LoserIsCont IN (0, 1)),\n",
      "    IsGainerHomeland\t  NUMBER(1) CHECK (IsGainerHomeland IN (0, 1)),\n",
      "    IsLoserHomeland\t    NUMBER(1) CHECK (IsLoserHomeland IN (0, 1)),\n",
      "    IsSystemEntry\t      NUMBER(1) CHECK (IsSystemEntry IN (0, 1)),\n",
      "    IsSystemExit\t      NUMBER(1) CHECK (IsSystemExit IN (0, 1)),\n",
      "  CONSTRAINT TERRITORIALCHANGE_PK PRIMARY KEY (TerritorialChangeID),\n",
      "  CONSTRAINT TERRGAINER_TO_POLITY FOREIGN KEY (Gainer)\n",
      "    REFERENCES POLITY (PolityID),\n",
      "  CONSTRAINT TERRLOSER_TO_POLITY FOREIGN KEY (Loser)\n",
      "    REFERENCES POLITY (PolityID),\n",
      "  CONSTRAINT TERR_TO_POLITY FOREIGN KEY (TerritoryID)\n",
      "    REFERENCES POLITY (PolityID)\n",
      "  );\n",
      "\n",
      "New Table:\n",
      "CREATE TABLE STATE_RESOURCE\n",
      "  ( StateID\t    NUMBER(5) NOT NULL,\n",
      "    Year\t      NUMBER(4) NOT NULL,\n",
      "    ResourceID\tVARCHAR2(10) NOT NULL,\n",
      "    Amount\t    NUMBER,\n",
      "    Source\t    VARCHAR2(250),\n",
      "    Note\t      VARCHAR2(250),\n",
      "    QualityCode\tVARCHAR2(1),\n",
      "    AnomalyCode\tVARCHAR2(1),\n",
      "  CONSTRAINT STATE_RESOURCE_PK PRIMARY KEY (StateID, Year, ResourceID),\n",
      "  CONSTRAINT RESOURCE_TO_POLITY FOREIGN KEY (StateID)\n",
      "    REFERENCES POLITY (PolityID)\n",
      "  );\n",
      "\n",
      "New Table:\n",
      "CREATE TABLE IGO\n",
      "  ( igoID\t        NUMBER(4) NOT NULL,\n",
      "    igoAbbr\t      VARCHAR2(15),\n",
      "    igoShortName\tVARCHAR2(75),\n",
      "    igoLongName\t  VARCHAR2(85),\n",
      "    StartYear\t    NUMBER(4),\n",
      "    EndYear\t      NUMBER(4),\n",
      "    EndReason\t    VARCHAR2(10),\n",
      "    Notes\t        VARCHAR2(500),\n",
      "  CONSTRAINT IGO_PK PRIMARY KEY (igoID)\n",
      "  );\n",
      "\n",
      "New Table:\n",
      "CREATE TABLE IGO_MEMBERSHIP\n",
      "  ( igoID\t    NUMBER(4) NOT NULL,\n",
      "    StateID\t  NUMBER(5) NOT NULL,\n",
      "    JoinYear\tNUMBER(4) NOT NULL,\n",
      "    LeaveYear\tNUMBER(4),\n",
      "  CONSTRAINT  IGO_MEMBERSHIP_PK PRIMARY KEY (igoID, StateID, JoinYear),\n",
      "  CONSTRAINT IGOMEM_TO_IGO FOREIGN KEY (igoID)\n",
      "    REFERENCES IGO (igoID),\n",
      "  CONSTRAINT IGOMEM_TO_POLITY FOREIGN KEY (StateID)\n",
      "    REFERENCES POLITY (PolityID)\n",
      "  );\n",
      "\n",
      "New Table:\n",
      "CREATE TABLE STATE_ALLIANCE\n",
      "  ( AllianceID\t  NUMBER(3) NOT NULL,\n",
      "    AllianceType  VARCHAR2(30),\n",
      "    StartDate\t    DATE,\n",
      "    EndDate\t      DATE,\n",
      "    StartYear\t    NUMBER(4),\n",
      "    StartMonth\t  NUMBER(2),\n",
      "    StartDay\t    NUMBER(2),\n",
      "    EndYear\t      NUMBER(4),\n",
      "    EndMonth\t    NUMBER(2),\n",
      "    EndDay\t      NUMBER(2),\n",
      "  CONSTRAINT STATE_ALLIANCE_PK PRIMARY KEY (AllianceID)\n",
      "  );\n",
      "\n",
      "New Table:\n",
      "CREATE TABLE ALLIANCE_MEMBERSHIP\n",
      "  ( AllianceID\tNUMBER(3) NOT NULL,\n",
      "    StateID\t    NUMBER(5) NOT NULL,\n",
      "    StartDate\t  DATE NOT NULL,\n",
      "    EndDate\t    DATE,\n",
      "    StartYear\t  NUMBER(4),\n",
      "    StartMonth\tNUMBER(2),\n",
      "    StartDay\t  NUMBER(2),\n",
      "    EndYear\t    NUMBER(4),\n",
      "    EndMonth\t  NUMBER(2),\n",
      "    EndDay\t    NUMBER(2),\n",
      "  CONSTRAINT ALLIANCE_MEMBERSHIP_PK PRIMARY KEY (AllianceID, StateID, StartDate),\n",
      "  CONSTRAINT ALLIANCEMEM_TO_ALLIANCE FOREIGN KEY (AllianceID)\n",
      "    REFERENCES STATE_ALLIANCE (AllianceID),\n",
      "  CONSTRAINT ALLIANCEMEM_TO_POLITY FOREIGN KEY (StateID)\n",
      "    REFERENCES POLITY (PolityID)\n",
      "  );\n",
      "\n",
      "New Table:\n",
      "CREATE TABLE ALLIANCE_TRAITS\n",
      "  ( AllianceID\tNUMBER(3) NOT NULL,\n",
      "    StateID\t    NUMBER(5) NOT NULL,\n",
      "    StartDate\t  DATE NOT NULL,\n",
      "    Trait\t      VARCHAR2(15) CHECK (Trait IN('defense', 'neutrality', 'nonaggression', 'entente')) NOT NULL,\n",
      "  CONSTRAINT ALLIANCE_TRAITS_PK PRIMARY KEY (AllianceID, StateID, StartDate, Trait),\n",
      "  CONSTRAINT ALLIANCETRAITS_TO_ALLIANCE FOREIGN KEY (AllianceID)\n",
      "    REFERENCES STATE_ALLIANCE (AllianceID),\n",
      "  CONSTRAINT ALLIANCETRAITS_TO_POLITY FOREIGN KEY (StateID)\n",
      "    REFERENCES POLITY (PolityID),\n",
      "  CONSTRAINT ALLIANCETRAITS_TO_ALLIANCEMEM FOREIGN KEY (AllianceID, StateID, StartDate)\n",
      "    REFERENCES ALLIANCE_MEMBERSHIP (AllianceID, StateID, StartDate)\n",
      "  );\n",
      "\n",
      "New Table:\n",
      "CREATE TABLE WAR\n",
      "  ( WarID\t          NUMBER(4) NOT NULL,\n",
      "    WarShortName\t  VARCHAR2(50),\n",
      "    WarLongName     VARCHAR2(75),\n",
      "    WarType\t        NUMBER(1) CHECK (WarType IN(1, 2, 3, 4, 5, 6, 7, 8, 9)),\n",
      "    WarTypeName     VARCHAR2(16) CHECK (WarTypeName IN('Intra-State War', 'Extra-State War', 'Inter-State War', 'Non-State War')),\n",
      "    IsIntervention\tNUMBER(1) CHECK (IsIntervention IN(0, 1)),\n",
      "    IsInternational\tNUMBER(1) CHECK (IsInternational IN(0, 1)),\n",
      "  CONSTRAINT WAR_PK PRIMARY KEY (WarID)\n",
      "  );\n",
      "\n",
      "New Table:\n",
      "CREATE TABLE WAR_LOCATIONS\n",
      "  ( WarID\t  NUMBER(4) NOT NULL,\n",
      "    Region\tVARCHAR2(15) NOT NULL,\n",
      "  CONSTRAINT WAR_LOCATION_PK PRIMARY KEY (WarID, Region),\n",
      "  CONSTRAINT WARLOC_TO_WAR FOREIGN KEY (WarID)\n",
      "    REFERENCES WAR (WarID)\n",
      "  );\n",
      "\n",
      "New Table:\n",
      "CREATE TABLE WAR_PARTICIPANTS\n",
      "  ( WarID\t      NUMBER(4) NOT NULL,\n",
      "    PolityID\t  NUMBER(5) NOT NULL,\n",
      "    StartDate\t  DATE NOT NULL,\n",
      "    EndDate\t    DATE,\n",
      "    StartYear\t  NUMBER(4),\n",
      "    StartMonth\tNUMBER(2),\n",
      "    StartDay\t  NUMBER(2),\n",
      "    EndYear\t    NUMBER(4),\n",
      "    EndMonth\t  NUMBER(2),\n",
      "    EndDay\t    NUMBER(2),\n",
      "    Side\t      VARCHAR2(1),\n",
      "    IsInitiator\tNUMBER(1) CHECK (IsInitiator IN (0, 1)),\n",
      "    Outcome\t    NUMBER(1) CHECK (Outcome IN (1, 2, 3, 4, 5, 6, 7, 8)),\n",
      "    Deaths\t    NUMBER,\n",
      "  CONSTRAINT WAR_PARTICIPANTS_PK PRIMARY KEY (WarID, PolityID, StartDate),\n",
      "  CONSTRAINT WARPAR_TO_WAR FOREIGN KEY (WarID)\n",
      "    REFERENCES WAR (WarID),\n",
      "  CONSTRAINT WARPAR_TO_POLITY FOREIGN KEY (PolityID)\n",
      "    REFERENCES POLITY (PolityID)\n",
      "  );\n",
      "\n",
      "New Table:\n",
      "CREATE TABLE WAR_TRANSITIONS\n",
      "  ( FromWar\t      NUMBER(4) NOT NULL,\n",
      "    ToWar\t        NUMBER(4) NOT NULL,\n",
      "  CONSTRAINT WAR_TRANSITIONS_PK PRIMARY KEY (FromWar, ToWar),\n",
      "  CONSTRAINT WARTRANFROM_TO_WAR FOREIGN KEY (FromWar)\n",
      "    REFERENCES WAR (WarID),\n",
      "  CONSTRAINT WARTRANTO_TO_WAR FOREIGN KEY (ToWar)\n",
      "    REFERENCES WAR (WarID)\n",
      "  );\n",
      "\n",
      "\n"
     ]
    }
   ],
   "source": [
    "create_tables = orig_creation_script.split(\"\\n\\n\")\n",
    "for table in create_tables:\n",
    "    print(\"New Table:\")\n",
    "    print(table)\n",
    "    print()"
   ]
  },
  {
   "cell_type": "code",
   "execution_count": 4,
   "metadata": {
    "scrolled": false
   },
   "outputs": [
    {
     "name": "stdout",
     "output_type": "stream",
     "text": [
      "success\n",
      "success\n",
      "success\n",
      "success\n",
      "success\n",
      "success\n",
      "success\n",
      "success\n",
      "success\n",
      "success\n",
      "success\n",
      "success\n",
      "success\n",
      "success\n",
      "success\n"
     ]
    }
   ],
   "source": [
    "for table in create_tables:\n",
    "    c.execute(table)\n",
    "    print(\"success\")"
   ]
  },
  {
   "cell_type": "code",
   "execution_count": 5,
   "metadata": {},
   "outputs": [],
   "source": [
    "connection.commit()"
   ]
  },
  {
   "cell_type": "markdown",
   "metadata": {},
   "source": [
    "## Load the data\n",
    "\n",
    "Note: this is done using the Pandas library's to_sql() function\n",
    "\n",
    "1. Load CSVs for each table into a dataframe\n",
    "2. Export dataframes to the right SQL table\n",
    "3. Commit the changes & close the connection"
   ]
  },
  {
   "cell_type": "code",
   "execution_count": 6,
   "metadata": {},
   "outputs": [
    {
     "name": "stdout",
     "output_type": "stream",
     "text": [
      "alliance_membership.csv  state.csv                territory.csv\r\n",
      "alliance_traits.csv      state_alliance.csv       territory_dates.csv\r\n",
      "igo.csv                  state_contiguity.csv     war.csv\r\n",
      "igo_membership.csv       state_dates.csv          war_locations.csv\r\n",
      "polity.csv               state_resource.csv       war_participants.csv\r\n",
      "proto_igo_membership.csv territorialchange.csv    war_transitions.csv\r\n"
     ]
    }
   ],
   "source": [
    "!ls ../FinalData"
   ]
  },
  {
   "cell_type": "code",
   "execution_count": 7,
   "metadata": {},
   "outputs": [],
   "source": [
    "import pandas as pd"
   ]
  },
  {
   "cell_type": "code",
   "execution_count": 8,
   "metadata": {
    "scrolled": true
   },
   "outputs": [],
   "source": [
    "polity = pd.read_csv(\"../FinalData/polity.csv\")\n",
    "polity.to_sql(\"POLITY\", connection, if_exists='append', index=False)"
   ]
  },
  {
   "cell_type": "code",
   "execution_count": 9,
   "metadata": {},
   "outputs": [],
   "source": [
    "statedates = pd.read_csv(\"../FinalData/state_dates.csv\")\n",
    "statedates.to_sql(\"STATE_DATES\", connection, if_exists='append', index=False)"
   ]
  },
  {
   "cell_type": "code",
   "execution_count": 10,
   "metadata": {},
   "outputs": [],
   "source": [
    "statecontiguity = pd.read_csv(\"../FinalData/state_contiguity.csv\")\n",
    "statecontiguity.to_sql(\"STATE_CONTIGUITY\", connection, if_exists='append', index=False)"
   ]
  },
  {
   "cell_type": "code",
   "execution_count": 11,
   "metadata": {},
   "outputs": [],
   "source": [
    "terrdates = pd.read_csv(\"../FinalData/territory_dates.csv\")\n",
    "terrdates.to_sql(\"TERRITORY_DATES\", connection, if_exists='append', index=False)"
   ]
  },
  {
   "cell_type": "code",
   "execution_count": 12,
   "metadata": {},
   "outputs": [],
   "source": [
    "terrchange = pd.read_csv(\"../FinalData/territorialchange.csv\")\n",
    "terrchange.to_sql(\"TERRITORIALCHANGE\", connection, if_exists='append', index=False)"
   ]
  },
  {
   "cell_type": "code",
   "execution_count": 13,
   "metadata": {},
   "outputs": [],
   "source": [
    "stateresource = pd.read_csv(\"../FinalData/state_resource.csv\")\n",
    "stateresource.to_sql(\"STATE_RESOURCE\", connection, if_exists='append', index=False)"
   ]
  },
  {
   "cell_type": "code",
   "execution_count": 15,
   "metadata": {},
   "outputs": [],
   "source": [
    "igo = pd.read_csv(\"../FinalData/igo.csv\")\n",
    "igo.to_sql(\"IGO\", connection, if_exists='append', index=False)"
   ]
  },
  {
   "cell_type": "code",
   "execution_count": 17,
   "metadata": {},
   "outputs": [],
   "source": [
    "igomem = pd.read_csv(\"../FinalData/igo_membership.csv\")\n",
    "igomem.to_sql(\"IGO_MEMBERSHIP\", connection, if_exists='append', index=False)"
   ]
  },
  {
   "cell_type": "code",
   "execution_count": 19,
   "metadata": {},
   "outputs": [],
   "source": [
    "statealliance = pd.read_csv(\"../FinalData/state_alliance.csv\")\n",
    "statealliance.to_sql(\"STATE_ALLIANCE\", connection, if_exists='append', index=False)"
   ]
  },
  {
   "cell_type": "code",
   "execution_count": 21,
   "metadata": {},
   "outputs": [],
   "source": [
    "alliancemem = pd.read_csv(\"../FinalData/alliance_membership.csv\")\n",
    "alliancemem.to_sql(\"ALLIANCE_MEMBERSHIP\", connection, if_exists='append', index=False)"
   ]
  },
  {
   "cell_type": "code",
   "execution_count": 23,
   "metadata": {},
   "outputs": [],
   "source": [
    "alliancetraits = pd.read_csv(\"../FinalData/alliance_traits.csv\")\n",
    "alliancetraits.to_sql(\"ALLIANCE_TRAITS\", connection, if_exists='append', index=False)"
   ]
  },
  {
   "cell_type": "code",
   "execution_count": 25,
   "metadata": {},
   "outputs": [],
   "source": [
    "war = pd.read_csv(\"../FinalData/war.csv\")\n",
    "war.to_sql(\"WAR\", connection, if_exists='append', index=False)"
   ]
  },
  {
   "cell_type": "code",
   "execution_count": 28,
   "metadata": {},
   "outputs": [],
   "source": [
    "warloc = pd.read_csv(\"../FinalData/war_locations.csv\")\n",
    "warloc.to_sql(\"WAR_LOCATIONS\", connection, if_exists='append', index=False)"
   ]
  },
  {
   "cell_type": "code",
   "execution_count": 30,
   "metadata": {},
   "outputs": [],
   "source": [
    "warpar = pd.read_csv(\"../FinalData/war_participants.csv\")\n",
    "warpar.to_sql(\"WAR_PARTICIPANTS\", connection, if_exists='append', index=False)"
   ]
  },
  {
   "cell_type": "code",
   "execution_count": 32,
   "metadata": {},
   "outputs": [],
   "source": [
    "wartrans = pd.read_csv(\"../FinalData/war_transitions.csv\")\n",
    "wartrans.to_sql(\"WAR_TRANSITIONS\", connection, if_exists='append', index=False)"
   ]
  },
  {
   "cell_type": "code",
   "execution_count": 34,
   "metadata": {},
   "outputs": [],
   "source": [
    "connection.commit()"
   ]
  },
  {
   "cell_type": "code",
   "execution_count": 35,
   "metadata": {},
   "outputs": [],
   "source": [
    "connection.close()"
   ]
  },
  {
   "cell_type": "code",
   "execution_count": null,
   "metadata": {},
   "outputs": [],
   "source": []
  }
 ],
 "metadata": {
  "kernelspec": {
   "display_name": "Python 3",
   "language": "python",
   "name": "python3"
  },
  "language_info": {
   "codemirror_mode": {
    "name": "ipython",
    "version": 3
   },
   "file_extension": ".py",
   "mimetype": "text/x-python",
   "name": "python",
   "nbconvert_exporter": "python",
   "pygments_lexer": "ipython3",
   "version": "3.6.8"
  }
 },
 "nbformat": 4,
 "nbformat_minor": 2
}
