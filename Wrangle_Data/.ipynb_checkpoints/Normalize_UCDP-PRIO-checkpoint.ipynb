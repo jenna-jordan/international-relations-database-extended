{
 "cells": [
  {
   "cell_type": "markdown",
   "metadata": {},
   "source": [
    "# Normalize the UCDP/PRIO Armed Conflict dataset"
   ]
  },
  {
   "cell_type": "code",
   "execution_count": null,
   "metadata": {},
   "outputs": [],
   "source": [
    "import pandas as pd"
   ]
  },
  {
   "cell_type": "code",
   "execution_count": null,
   "metadata": {},
   "outputs": [],
   "source": [
    "pd.set_option('display.max_rows', 20)\n",
    "pd.set_option('display.max_columns', 50)"
   ]
  },
  {
   "cell_type": "code",
   "execution_count": null,
   "metadata": {},
   "outputs": [],
   "source": [
    "df = pd.read_csv(\"../Data/UCDP_PRIO/ucdpprio_armedconflict_api.csv\")\n",
    "actors = pd.read_csv(\"../Data/UCDP_PRIO/Raw/actorlist.csv\")"
   ]
  },
  {
   "cell_type": "code",
   "execution_count": null,
   "metadata": {},
   "outputs": [],
   "source": [
    "df.columns"
   ]
  },
  {
   "cell_type": "code",
   "execution_count": null,
   "metadata": {},
   "outputs": [],
   "source": [
    "df"
   ]
  },
  {
   "cell_type": "code",
   "execution_count": null,
   "metadata": {},
   "outputs": [],
   "source": [
    "# convert date columns to date datatype and drop version column\n",
    "df['start_date'] = pd.to_datetime(df['start_date'], format = '%Y-%m-%d')\n",
    "df['start_date2'] = pd.to_datetime(df['start_date2'], format = '%Y-%m-%d')\n",
    "df['ep_end_date'] = pd.to_datetime(df['ep_end_date'], format = '%Y-%m-%d')\n",
    "df = df.drop(columns=['version'])"
   ]
  },
  {
   "cell_type": "markdown",
   "metadata": {},
   "source": [
    "## create observation ids\n",
    "\n",
    "each row/observation is a conflict-year"
   ]
  },
  {
   "cell_type": "code",
   "execution_count": null,
   "metadata": {},
   "outputs": [],
   "source": [
    "df['obs_id'] = df['conflict_id'].astype(str) + '-' + df['year'].astype(str)\n",
    "df"
   ]
  },
  {
   "cell_type": "markdown",
   "metadata": {},
   "source": [
    "## create episode ids\n",
    "\n",
    "Conflicts have multiple episodes when a conflict calms down to <25 deaths in a year (and therefore is not recorded as an observation) and the flares up again to >25 deaths in a year (and therefore has another observation). This can happen multiple times."
   ]
  },
  {
   "cell_type": "code",
   "execution_count": null,
   "metadata": {},
   "outputs": [],
   "source": [
    "episode_groups = df.groupby('conflict_id').agg({'start_date2': 'nunique'})"
   ]
  },
  {
   "cell_type": "code",
   "execution_count": null,
   "metadata": {},
   "outputs": [],
   "source": [
    "def make_num_list(x):\n",
    "    num_list = [1]\n",
    "    start = 1\n",
    "    while start < x:\n",
    "        start += 1\n",
    "        num_list.append(start)\n",
    "    return num_list\n",
    "\n",
    "episode_groups['num_list'] = episode_groups['start_date2'].apply(make_num_list)\n",
    "episode_groups"
   ]
  },
  {
   "cell_type": "code",
   "execution_count": null,
   "metadata": {},
   "outputs": [],
   "source": [
    "episode_ids = episode_groups.num_list.apply(pd.Series).reset_index() \\\n",
    "    .melt(id_vars = ['conflict_id']) \\\n",
    "    .drop(columns=['variable']) \\\n",
    "    .dropna() \\\n",
    "    .sort_values(by=['conflict_id', 'value']) \\\n",
    "    .astype({'value': 'int'}) \\\n",
    "    .reset_index(drop=True)\n",
    "\n",
    "episode_ids['ep_id'] = episode_ids['conflict_id'].astype(str) + \"-\" + episode_ids['value'].astype(str)\n",
    "episode_ids = episode_ids.drop(columns=['value']).sort_values(by=['conflict_id', 'ep_id']).reset_index(drop=True)\n",
    "episode_ids"
   ]
  },
  {
   "cell_type": "code",
   "execution_count": null,
   "metadata": {},
   "outputs": [],
   "source": [
    "episode_groups2 = df[['conflict_id', 'start_date2']].drop_duplicates().reset_index(drop=True)\n",
    "episode_groups2['start_date2'] = pd.to_datetime(episode_groups2['start_date2'], format = '%Y-%m-%d')\n",
    "episode_groups2 = episode_groups2.sort_values(by=['conflict_id', 'start_date2']).reset_index(drop=True)\n",
    "episode_groups2 = episode_groups2.rename(columns={'conflict_id':'conflict_id2'})\n",
    "episode_groups2"
   ]
  },
  {
   "cell_type": "code",
   "execution_count": null,
   "metadata": {},
   "outputs": [],
   "source": [
    "episode_groups3 = pd.concat([episode_ids, episode_groups2], axis=1)\n",
    "episode_groups3"
   ]
  },
  {
   "cell_type": "code",
   "execution_count": null,
   "metadata": {},
   "outputs": [],
   "source": [
    "episode_groups3[episode_groups3['conflict_id'] != episode_groups3['conflict_id2']]"
   ]
  },
  {
   "cell_type": "code",
   "execution_count": null,
   "metadata": {},
   "outputs": [],
   "source": [
    "episode_groups3 = episode_groups3.drop(columns=['conflict_id2'])\n",
    "episode_groups3"
   ]
  },
  {
   "cell_type": "code",
   "execution_count": null,
   "metadata": {},
   "outputs": [],
   "source": [
    "df = df.merge(episode_groups3, on=['conflict_id', 'start_date2'])\n",
    "df"
   ]
  },
  {
   "cell_type": "markdown",
   "metadata": {},
   "source": [
    "## Find columns that are functionally dependent on 'conflict_id' for the CONFLICT table\n",
    "\n",
    "- 'incompatibility'\n",
    "- 'territory_name'\n",
    "- 'start_date'\n",
    "- 'start_prec'\n",
    "- 'location' (multivalued)\n",
    "- 'gwno_loc' (multivalued)\n",
    "- 'region' (multivalued)\n",
    "- 'gwno_a' (multivalued)\n",
    "- 'side_a' (multivalued)\n",
    "- 'side_a_id' (multivalued)\n",
    "\n",
    "note: 'gwno_b' corresponds to 'side_b', which is not dependent on the conflict id. However, 'gwno_b' is only present if 'side_b' is a state, and thus 'gwno_b' is often missing. It seems like it is functionally dependent on 'conflict_id', but this is misleading."
   ]
  },
  {
   "cell_type": "code",
   "execution_count": null,
   "metadata": {},
   "outputs": [],
   "source": [
    "df.groupby('conflict_id')['incompatibility'].nunique().unique()"
   ]
  },
  {
   "cell_type": "code",
   "execution_count": null,
   "metadata": {},
   "outputs": [],
   "source": [
    "df.groupby('conflict_id')['territory_name'].nunique().unique()"
   ]
  },
  {
   "cell_type": "code",
   "execution_count": null,
   "metadata": {},
   "outputs": [],
   "source": [
    "df.groupby('conflict_id')['start_date'].nunique().unique()"
   ]
  },
  {
   "cell_type": "code",
   "execution_count": null,
   "metadata": {},
   "outputs": [],
   "source": [
    "df.groupby('conflict_id')['start_prec'].nunique().unique()"
   ]
  },
  {
   "cell_type": "code",
   "execution_count": null,
   "metadata": {},
   "outputs": [],
   "source": [
    "df.groupby('conflict_id')['location'].nunique().unique()"
   ]
  },
  {
   "cell_type": "code",
   "execution_count": null,
   "metadata": {},
   "outputs": [],
   "source": [
    "df.groupby('conflict_id')['region'].nunique().unique()"
   ]
  },
  {
   "cell_type": "code",
   "execution_count": null,
   "metadata": {},
   "outputs": [],
   "source": [
    "df.groupby('conflict_id')['type_of_conflict'].nunique().unique()"
   ]
  },
  {
   "cell_type": "code",
   "execution_count": null,
   "metadata": {},
   "outputs": [],
   "source": [
    "df.groupby('conflict_id')['gwno_loc'].nunique().unique()"
   ]
  },
  {
   "cell_type": "code",
   "execution_count": null,
   "metadata": {},
   "outputs": [],
   "source": [
    "df.groupby('conflict_id')['gwno_a'].nunique().unique()"
   ]
  },
  {
   "cell_type": "code",
   "execution_count": null,
   "metadata": {},
   "outputs": [],
   "source": [
    "df.groupby('conflict_id')['gwno_a_2nd'].nunique().unique()"
   ]
  },
  {
   "cell_type": "code",
   "execution_count": null,
   "metadata": {},
   "outputs": [],
   "source": [
    "df.groupby('conflict_id')['gwno_b'].nunique().unique()"
   ]
  },
  {
   "cell_type": "code",
   "execution_count": null,
   "metadata": {},
   "outputs": [],
   "source": [
    "df.groupby('conflict_id')['gwno_b_2nd'].nunique().unique()"
   ]
  },
  {
   "cell_type": "code",
   "execution_count": null,
   "metadata": {},
   "outputs": [],
   "source": [
    "df.groupby('conflict_id')['side_a'].nunique().unique()"
   ]
  },
  {
   "cell_type": "code",
   "execution_count": null,
   "metadata": {},
   "outputs": [],
   "source": [
    "df.groupby('conflict_id')['side_a_id'].nunique().unique()"
   ]
  },
  {
   "cell_type": "code",
   "execution_count": null,
   "metadata": {},
   "outputs": [],
   "source": [
    "df.groupby('conflict_id')['side_b'].nunique().unique()"
   ]
  },
  {
   "cell_type": "code",
   "execution_count": null,
   "metadata": {},
   "outputs": [],
   "source": [
    "df.groupby('conflict_id')['side_b_id'].nunique().unique()"
   ]
  },
  {
   "cell_type": "markdown",
   "metadata": {},
   "source": [
    "create conflict end date based on last episode end date"
   ]
  },
  {
   "cell_type": "code",
   "execution_count": null,
   "metadata": {},
   "outputs": [],
   "source": [
    "ongoing = df[(df.year == 2018) & (df.ep_end == 0)].conflict_id.tolist()"
   ]
  },
  {
   "cell_type": "code",
   "execution_count": null,
   "metadata": {},
   "outputs": [],
   "source": [
    "conflict_enddates = df.groupby('conflict_id').agg({'ep_end_date':'max'})\n",
    "conflict_enddates = conflict_enddates.reset_index().rename(columns={'ep_end_date':'end_date'})\n",
    "conflict_enddates['end_date'] [conflict_enddates.conflict_id.isin(ongoing)] = pd.NaT\n",
    "conflict_enddates"
   ]
  },
  {
   "cell_type": "code",
   "execution_count": null,
   "metadata": {},
   "outputs": [],
   "source": [
    "conflict_df = df[['conflict_id', 'start_date', 'start_prec', 'incompatibility', 'territory_name']]\n",
    "conflict_df = conflict_df.drop_duplicates()\n",
    "conflict_df = conflict_df.merge(conflict_enddates, on='conflict_id')\n",
    "conflict_df = conflict_df.reset_index(drop=True)\n",
    "conflict_df"
   ]
  },
  {
   "cell_type": "markdown",
   "metadata": {},
   "source": [
    "## find columns that are functionally dependent on 'ep_id' to isolate conflict EPISODES\n",
    "\n",
    "- 'start_date2'\n",
    "- 'start_prec2'\n",
    "- 'ep_end_date'\n",
    "- 'ep_end_prec' (this column is blank, but it shouldn't be...)"
   ]
  },
  {
   "cell_type": "code",
   "execution_count": null,
   "metadata": {},
   "outputs": [],
   "source": [
    "df.columns"
   ]
  },
  {
   "cell_type": "code",
   "execution_count": null,
   "metadata": {},
   "outputs": [],
   "source": [
    "df.groupby('ep_id')['start_date2'].nunique().unique()"
   ]
  },
  {
   "cell_type": "code",
   "execution_count": null,
   "metadata": {},
   "outputs": [],
   "source": [
    "df.groupby('ep_id')['start_prec2'].nunique().unique()"
   ]
  },
  {
   "cell_type": "code",
   "execution_count": null,
   "metadata": {},
   "outputs": [],
   "source": [
    "df.groupby('ep_id')['ep_end_prec'].nunique().unique()"
   ]
  },
  {
   "cell_type": "code",
   "execution_count": null,
   "metadata": {},
   "outputs": [],
   "source": [
    "df.groupby('ep_id')['ep_end_date'].nunique().unique()"
   ]
  },
  {
   "cell_type": "code",
   "execution_count": null,
   "metadata": {},
   "outputs": [],
   "source": [
    "df.groupby('ep_id')['type_of_conflict'].nunique().unique()"
   ]
  },
  {
   "cell_type": "code",
   "execution_count": null,
   "metadata": {},
   "outputs": [],
   "source": [
    "df.groupby('ep_id')['cumulative_intensity'].nunique().unique()"
   ]
  },
  {
   "cell_type": "code",
   "execution_count": null,
   "metadata": {},
   "outputs": [],
   "source": [
    "df.groupby('ep_id')['intensity_level'].nunique().unique()"
   ]
  },
  {
   "cell_type": "code",
   "execution_count": null,
   "metadata": {},
   "outputs": [],
   "source": [
    "df.groupby('ep_id')['side_b'].nunique().unique()"
   ]
  },
  {
   "cell_type": "code",
   "execution_count": null,
   "metadata": {},
   "outputs": [],
   "source": [
    "episode_df = df[['ep_id', 'start_date2', 'start_prec2', 'ep_end_date', 'ep_end_prec']]\n",
    "episode_df = episode_df.drop_duplicates()\n",
    "episode_df"
   ]
  },
  {
   "cell_type": "markdown",
   "metadata": {},
   "source": [
    "## isolate polities/actors for PARTICIPANTS table"
   ]
  },
  {
   "cell_type": "code",
   "execution_count": null,
   "metadata": {},
   "outputs": [],
   "source": [
    "df.columns"
   ]
  },
  {
   "cell_type": "code",
   "execution_count": null,
   "metadata": {},
   "outputs": [],
   "source": [
    "sideA = df[['obs_id', 'gwno_a', 'side_a', 'side_a_id']]\n",
    "sideA2 = df[['obs_id', 'gwno_a_2nd', 'side_a_2nd']]\n",
    "sideB = df[['obs_id', 'gwno_b', 'side_b', 'side_b_id']]\n",
    "sideB2 = df[['obs_id', 'gwno_b_2nd', 'side_b_2nd']]"
   ]
  },
  {
   "cell_type": "markdown",
   "metadata": {},
   "source": [
    "### side A, primary party"
   ]
  },
  {
   "cell_type": "code",
   "execution_count": null,
   "metadata": {},
   "outputs": [],
   "source": [
    "sideA_gwno_list = sideA['gwno_a'].str.split(pat=\", \", expand = True)\n",
    "sideA_gwno = pd.concat([sideA['obs_id'], sideA_gwno_list], axis=1)\n",
    "sideA_gwno = sideA_gwno.melt(id_vars = ['obs_id']).dropna()\n",
    "sideA_gwno = sideA_gwno.rename(columns={'value': 'gwno_a'})\n",
    "sideA_gwno"
   ]
  },
  {
   "cell_type": "code",
   "execution_count": null,
   "metadata": {},
   "outputs": [],
   "source": [
    "sideA_text_list = sideA['side_a'].str.split(pat=\", \", expand = True)\n",
    "sideA_text = pd.concat([sideA['obs_id'], sideA_text_list], axis=1)\n",
    "sideA_text = sideA_text.melt(id_vars = ['obs_id']).dropna()\n",
    "sideA_text = sideA_text.rename(columns={'value': 'side_a'})\n",
    "sideA_text"
   ]
  },
  {
   "cell_type": "code",
   "execution_count": null,
   "metadata": {},
   "outputs": [],
   "source": [
    "sideA_id_list = sideA['side_a_id'].str.split(pat=\", \", expand = True)\n",
    "sideA_id = pd.concat([sideA['obs_id'], sideA_id_list], axis=1)\n",
    "sideA_id = sideA_id.melt(id_vars = ['obs_id']).dropna()\n",
    "sideA_id = sideA_id.rename(columns={'value': 'side_a_id'})\n",
    "sideA_id"
   ]
  },
  {
   "cell_type": "code",
   "execution_count": null,
   "metadata": {},
   "outputs": [],
   "source": [
    "sideA_merged = sideA_gwno.merge(sideA_text, how=\"outer\", on=['obs_id', 'variable']).merge(sideA_id, how=\"outer\", on=['obs_id', 'variable'])\n",
    "sideA_merged['side'] = \"A\"\n",
    "sideA_merged['role'] = \"primary\"\n",
    "sideA_merged = sideA_merged.drop(columns = ['variable'])\n",
    "sideA_merged = sideA_merged.rename(columns={'gwno_a': 'gw_id', 'side_a': 'actor_name', 'side_a_id': 'ucdp_id'})\n",
    "sideA_merged"
   ]
  },
  {
   "cell_type": "markdown",
   "metadata": {},
   "source": [
    "### side a, secondary party"
   ]
  },
  {
   "cell_type": "code",
   "execution_count": null,
   "metadata": {},
   "outputs": [],
   "source": [
    "sideA2_gwno_list = sideA2['gwno_a_2nd'].str.split(pat=\", \", expand = True)\n",
    "sideA2_gwno = pd.concat([sideA2['obs_id'], sideA2_gwno_list], axis=1)\n",
    "sideA2_gwno = sideA2_gwno.melt(id_vars = ['obs_id']).dropna()\n",
    "sideA2_gwno = sideA2_gwno.rename(columns={'value': 'gwno_a_2nd'})\n",
    "sideA2_gwno"
   ]
  },
  {
   "cell_type": "code",
   "execution_count": null,
   "metadata": {},
   "outputs": [],
   "source": [
    "sideA2_id_list = sideA2['side_a_2nd'].str.split(pat=\", \", expand = True)\n",
    "sideA2_id = pd.concat([sideA2['obs_id'], sideA2_id_list], axis=1)\n",
    "sideA2_id = sideA2_id.melt(id_vars = ['obs_id']).dropna()\n",
    "sideA2_id = sideA2_id.rename(columns={'value': 'side_a_2nd'})\n",
    "sideA2_id"
   ]
  },
  {
   "cell_type": "code",
   "execution_count": null,
   "metadata": {},
   "outputs": [],
   "source": [
    "sideA2_merged = sideA2_gwno.merge(sideA2_id, how=\"outer\", on=['obs_id', 'variable']).merge(actors, how='left', left_on='side_a_2nd', right_on='Name')\n",
    "sideA2_merged['side'] = \"A\"\n",
    "sideA2_merged['role'] = \"secondary\"\n",
    "sideA2_merged = sideA2_merged.drop(columns = ['variable', 'NameFull', 'Name'])\n",
    "sideA2_merged = sideA2_merged.rename(columns = {'ActorID': 'ucdp_id', 'gwno_a_2nd': 'gw_id', 'side_a_2nd': 'actor_name'})\n",
    "sideA2_merged"
   ]
  },
  {
   "cell_type": "code",
   "execution_count": null,
   "metadata": {},
   "outputs": [],
   "source": [
    "sideA2_merged[sideA2_merged['ucdp_id'].isna()]"
   ]
  },
  {
   "cell_type": "markdown",
   "metadata": {},
   "source": [
    "### side b, primary party"
   ]
  },
  {
   "cell_type": "code",
   "execution_count": null,
   "metadata": {},
   "outputs": [],
   "source": [
    "sideB_gwno_list = sideB['gwno_b'].str.split(pat=\", \", expand = True)\n",
    "sideB_gwno = pd.concat([sideB['obs_id'], sideB_gwno_list], axis=1)\n",
    "sideB_gwno = sideB_gwno.melt(id_vars = ['obs_id']).dropna()\n",
    "sideB_gwno = sideB_gwno.rename(columns={'value': 'gwno_b'})\n",
    "sideB_gwno"
   ]
  },
  {
   "cell_type": "code",
   "execution_count": null,
   "metadata": {},
   "outputs": [],
   "source": [
    "sideB_text_list = sideB['side_b'].str.split(pat=\", \", expand = True)\n",
    "sideB_text = pd.concat([sideB['obs_id'], sideB_text_list], axis=1)\n",
    "sideB_text = sideB_text.melt(id_vars = ['obs_id']).dropna()\n",
    "sideB_text = sideB_text.rename(columns={'value': 'side_b'})\n",
    "sideB_text"
   ]
  },
  {
   "cell_type": "code",
   "execution_count": null,
   "metadata": {},
   "outputs": [],
   "source": [
    "sideB_id_list = sideB['side_b_id'].str.split(pat=\", \", expand = True)\n",
    "sideB_id = pd.concat([sideB['obs_id'], sideB_id_list], axis=1)\n",
    "sideB_id = sideB_id.melt(id_vars = ['obs_id']).dropna()\n",
    "sideB_id = sideB_id.rename(columns={'value': 'side_b_id'})\n",
    "sideB_id"
   ]
  },
  {
   "cell_type": "code",
   "execution_count": null,
   "metadata": {},
   "outputs": [],
   "source": [
    "sideB_merged = sideB_gwno.merge(sideB_text, how=\"outer\", on=['obs_id', 'variable']).merge(sideB_id, how=\"outer\", on=['obs_id', 'variable'])\n",
    "sideB_merged['side'] = \"B\"\n",
    "sideB_merged['role'] = \"primary\"\n",
    "sideB_merged = sideB_merged.drop(columns = ['variable'])\n",
    "sideB_merged = sideB_merged.rename(columns = {'gwno_b': 'gw_id', 'side_b': 'actor_name', 'side_b_id': 'ucdp_id'})\n",
    "sideB_merged"
   ]
  },
  {
   "cell_type": "code",
   "execution_count": null,
   "metadata": {},
   "outputs": [],
   "source": [
    "sideB_merged[sideB_merged['obs_id']==\"11342-2012\"]"
   ]
  },
  {
   "cell_type": "markdown",
   "metadata": {},
   "source": [
    "### side b, secondary party"
   ]
  },
  {
   "cell_type": "code",
   "execution_count": null,
   "metadata": {},
   "outputs": [],
   "source": [
    "sideB2_gwno_list = sideB2['gwno_b_2nd'].str.split(pat=\", \", expand = True)\n",
    "sideB2_gwno = pd.concat([sideB2['obs_id'], sideB2_gwno_list], axis=1)\n",
    "sideB2_gwno = sideB2_gwno.melt(id_vars = ['obs_id']).dropna()\n",
    "sideB2_gwno = sideB2_gwno.rename(columns={'value': 'gwno_b_2nd'})\n",
    "sideB2_gwno"
   ]
  },
  {
   "cell_type": "code",
   "execution_count": null,
   "metadata": {},
   "outputs": [],
   "source": [
    "sideB2_id_list = sideB2['side_b_2nd'].str.split(pat=\", \", expand = True)\n",
    "sideB2_id = pd.concat([sideB2['obs_id'], sideB2_id_list], axis=1)\n",
    "sideB2_id = sideB2_id.melt(id_vars = ['obs_id']).dropna()\n",
    "sideB2_id = sideB2_id.rename(columns={'value': 'side_b_2nd'})\n",
    "sideB2_id"
   ]
  },
  {
   "cell_type": "code",
   "execution_count": null,
   "metadata": {},
   "outputs": [],
   "source": [
    "sideB2_merged = sideB2_gwno.merge(sideB2_id, how=\"outer\", on=['obs_id', 'variable']).merge(actors, how='left', left_on='side_b_2nd', right_on='Name')\n",
    "sideB2_merged['side'] = \"B\"\n",
    "sideB2_merged['role'] = \"secondary\"\n",
    "sideB2_merged = sideB2_merged.drop(columns = ['variable', 'Name', 'NameFull'])\n",
    "sideB2_merged = sideB2_merged.rename(columns = {'gwno_b_2nd': 'gw_id', 'side_b_2nd': 'actor_name', 'ActorID': 'ucdp_id'})\n",
    "sideB2_merged"
   ]
  },
  {
   "cell_type": "markdown",
   "metadata": {},
   "source": [
    "### combine all 4 participant lists"
   ]
  },
  {
   "cell_type": "code",
   "execution_count": null,
   "metadata": {},
   "outputs": [],
   "source": [
    "all_participants = [sideA_merged, sideA2_merged, sideB_merged, sideB2_merged]\n",
    "participants_df = pd.concat(all_participants).sort_values('obs_id').reset_index(drop=True)\n",
    "participants_df"
   ]
  },
  {
   "cell_type": "markdown",
   "metadata": {},
   "source": [
    "## seperate multivalued columns - location, region - that are dependent on CONFLICT_ID"
   ]
  },
  {
   "cell_type": "markdown",
   "metadata": {},
   "source": [
    "### location\n",
    "\n",
    "note - clearly the identifiers and the names are not in the same order, so they are not matching up correctly."
   ]
  },
  {
   "cell_type": "code",
   "execution_count": null,
   "metadata": {},
   "outputs": [],
   "source": [
    "df.columns"
   ]
  },
  {
   "cell_type": "code",
   "execution_count": null,
   "metadata": {},
   "outputs": [],
   "source": [
    "locations = df[['conflict_id', 'location', 'gwno_loc']]\n",
    "locations = locations.drop_duplicates()\n",
    "locations"
   ]
  },
  {
   "cell_type": "code",
   "execution_count": null,
   "metadata": {},
   "outputs": [],
   "source": [
    "location_name_list = locations['location'].str.split(pat=\", \", expand = True)\n",
    "location_name = pd.concat([locations['conflict_id'], location_name_list], axis=1)\n",
    "location_name = location_name.melt(id_vars = ['conflict_id']).dropna()\n",
    "location_name = location_name.rename(columns={'value': 'location_name'})\n",
    "location_name"
   ]
  },
  {
   "cell_type": "code",
   "execution_count": null,
   "metadata": {},
   "outputs": [],
   "source": [
    "location_id_list = locations['gwno_loc'].str.split(pat=\", \", expand = True)\n",
    "location_id = pd.concat([locations['conflict_id'], location_id_list], axis=1)\n",
    "location_id = location_id.melt(id_vars = ['conflict_id']).dropna()\n",
    "location_id = location_id.rename(columns={'value': 'gw_id'})\n",
    "location_id"
   ]
  },
  {
   "cell_type": "code",
   "execution_count": null,
   "metadata": {},
   "outputs": [],
   "source": [
    "location_id2 = location_id.drop(columns=['variable'])\n",
    "location_id2 = location_id2.merge(actor_mapping, how='left', left_on='gw_id', right_on='gw_id')\n",
    "location_id2"
   ]
  },
  {
   "cell_type": "code",
   "execution_count": null,
   "metadata": {},
   "outputs": [],
   "source": [
    "location_df = location_name.merge(location_id, how=\"outer\", on=['conflict_id', 'variable'])\n",
    "location_df = location_df.drop(columns=['variable'])\n",
    "location_df"
   ]
  },
  {
   "cell_type": "code",
   "execution_count": null,
   "metadata": {},
   "outputs": [],
   "source": [
    "location_df[location_df['gw_id'].isna()]"
   ]
  },
  {
   "cell_type": "markdown",
   "metadata": {},
   "source": [
    "### region"
   ]
  },
  {
   "cell_type": "code",
   "execution_count": null,
   "metadata": {},
   "outputs": [],
   "source": [
    "df.columns"
   ]
  },
  {
   "cell_type": "code",
   "execution_count": null,
   "metadata": {},
   "outputs": [],
   "source": [
    "regions = df[['conflict_id', 'region']]\n",
    "regions = regions.drop_duplicates()\n",
    "regions"
   ]
  },
  {
   "cell_type": "code",
   "execution_count": null,
   "metadata": {},
   "outputs": [],
   "source": [
    "region_list = regions['region'].str.split(pat=\", \", expand = True)\n",
    "region_df = pd.concat([regions['conflict_id'], region_list], axis=1)\n",
    "region_df = region_df.melt(id_vars = ['conflict_id']).dropna()\n",
    "region_df = region_df.rename(columns={'value': 'region'})\n",
    "\n",
    "region_dict = {\"1\": \"Europe\", \"2\": \"Middle East\", \"3\": \"Asia\", \"4\": \"Africa\", \"5\": \"Americas\"}\n",
    "region_df['region'] = region_df['region'].replace(region_dict)\n",
    "region_df = region_df.drop(columns=['variable'])\n",
    "region_df"
   ]
  },
  {
   "cell_type": "markdown",
   "metadata": {},
   "source": [
    "## Check that all columns are accounted for, put remaining variables in OBSERVATION table"
   ]
  },
  {
   "cell_type": "code",
   "execution_count": null,
   "metadata": {},
   "outputs": [],
   "source": [
    "df.columns"
   ]
  },
  {
   "cell_type": "code",
   "execution_count": null,
   "metadata": {},
   "outputs": [],
   "source": [
    "conflict_df.columns"
   ]
  },
  {
   "cell_type": "code",
   "execution_count": null,
   "metadata": {},
   "outputs": [],
   "source": [
    "episode_df.columns"
   ]
  },
  {
   "cell_type": "code",
   "execution_count": null,
   "metadata": {},
   "outputs": [],
   "source": [
    "participants_df.columns"
   ]
  },
  {
   "cell_type": "code",
   "execution_count": null,
   "metadata": {},
   "outputs": [],
   "source": [
    "location_df.columns"
   ]
  },
  {
   "cell_type": "code",
   "execution_count": null,
   "metadata": {},
   "outputs": [],
   "source": [
    "region_df.columns"
   ]
  },
  {
   "cell_type": "code",
   "execution_count": null,
   "metadata": {},
   "outputs": [],
   "source": [
    "observation_df = df[['obs_id', 'ep_id', 'conflict_id', 'year', 'intensity_level', 'cumulative_intensity', 'type_of_conflict']]\n",
    "observation_df.columns"
   ]
  },
  {
   "cell_type": "code",
   "execution_count": null,
   "metadata": {},
   "outputs": [],
   "source": [
    "observation_df.cumulative_intensity.value_counts()"
   ]
  },
  {
   "cell_type": "code",
   "execution_count": null,
   "metadata": {},
   "outputs": [],
   "source": [
    "type_dict = {1: \"extrasystemic\", 2: \"interstate\", 3: \"internal\", 4: \"internationalized internal\"}\n",
    "observation_df['type_of_conflict'] = observation_df['type_of_conflict'].replace(type_dict)\n",
    "\n",
    "intensity_dict = {1: \"Minor\", 2: \"War\"}\n",
    "observation_df['intensity_level'] = observation_df['intensity_level'].replace(intensity_dict)\n",
    "\n",
    "cum_intensity_dict = {0: \"Minor\", 1: \"War\"}\n",
    "observation_df['cumulative_intensity'] = observation_df['cumulative_intensity'].replace(cum_intensity_dict)\n",
    "\n",
    "observation_df"
   ]
  },
  {
   "cell_type": "code",
   "execution_count": null,
   "metadata": {},
   "outputs": [],
   "source": []
  }
 ],
 "metadata": {
  "kernelspec": {
   "display_name": "Python 3",
   "language": "python",
   "name": "python3"
  },
  "language_info": {
   "codemirror_mode": {
    "name": "ipython",
    "version": 3
   },
   "file_extension": ".py",
   "mimetype": "text/x-python",
   "name": "python",
   "nbconvert_exporter": "python",
   "pygments_lexer": "ipython3",
   "version": "3.6.8"
  }
 },
 "nbformat": 4,
 "nbformat_minor": 4
}
